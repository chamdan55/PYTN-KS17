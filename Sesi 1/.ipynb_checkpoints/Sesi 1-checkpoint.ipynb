{
 "cells": [
  {
   "cell_type": "markdown",
   "id": "8be754c3-791c-4991-821f-33a300f85158",
   "metadata": {
    "jp-MarkdownHeadingCollapsed": true,
    "tags": []
   },
   "source": [
    "# Integer"
   ]
  },
  {
   "cell_type": "code",
   "execution_count": 1,
   "id": "3bce14ba-8e04-4793-a667-d323581a9571",
   "metadata": {
    "tags": []
   },
   "outputs": [
    {
     "data": {
      "text/plain": [
       "10"
      ]
     },
     "execution_count": 1,
     "metadata": {},
     "output_type": "execute_result"
    }
   ],
   "source": [
    "10"
   ]
  },
  {
   "cell_type": "code",
   "execution_count": 2,
   "id": "863ce8a5-965c-46ca-b75c-6e57eb06f570",
   "metadata": {
    "tags": []
   },
   "outputs": [
    {
     "data": {
      "text/plain": [
       "int"
      ]
     },
     "execution_count": 2,
     "metadata": {},
     "output_type": "execute_result"
    }
   ],
   "source": [
    "type(10)"
   ]
  },
  {
   "cell_type": "code",
   "execution_count": 3,
   "id": "7b30af4a-9f19-42f8-b655-b2405a575402",
   "metadata": {
    "tags": []
   },
   "outputs": [
    {
     "name": "stdout",
     "output_type": "stream",
     "text": [
      "10\n",
      "<class 'int'>\n"
     ]
    }
   ],
   "source": [
    "print(10)\n",
    "print(type(10))"
   ]
  },
  {
   "cell_type": "markdown",
   "id": "ecbb5f32-9f8b-47fd-baf2-615d2363489a",
   "metadata": {
    "jp-MarkdownHeadingCollapsed": true,
    "tags": []
   },
   "source": [
    "# Floating Point"
   ]
  },
  {
   "cell_type": "code",
   "execution_count": 4,
   "id": "686d40ac-d03b-4dba-b5ae-9f60e65e2add",
   "metadata": {
    "tags": []
   },
   "outputs": [
    {
     "name": "stdout",
     "output_type": "stream",
     "text": [
      "4.2\n",
      "<class 'float'>\n",
      "4.0\n",
      "0.2\n",
      "4000000.0\n",
      "0.00042\n"
     ]
    }
   ],
   "source": [
    "print(4.2)\n",
    "print(type(4.2))\n",
    "\n",
    "print(4.)\n",
    "print(.2)\n",
    "print(.4e7)\n",
    "print(4.2e-4)"
   ]
  },
  {
   "cell_type": "markdown",
   "id": "e047c90e-d5aa-4f9c-ba66-6e7c44d7caf6",
   "metadata": {
    "jp-MarkdownHeadingCollapsed": true,
    "tags": []
   },
   "source": [
    "# String"
   ]
  },
  {
   "cell_type": "code",
   "execution_count": 5,
   "id": "d713666a-9125-40ce-af8e-68d20ad80dcc",
   "metadata": {
    "tags": []
   },
   "outputs": [
    {
     "name": "stdout",
     "output_type": "stream",
     "text": [
      "PYTN-KS17\n",
      "<class 'str'>\n"
     ]
    }
   ],
   "source": [
    "print('PYTN-KS17')\n",
    "print(type('PYTN-KS17'))"
   ]
  },
  {
   "cell_type": "code",
   "execution_count": 8,
   "id": "d43cc380-a4f8-44c9-9b81-33016a75f801",
   "metadata": {
    "tags": []
   },
   "outputs": [
    {
     "name": "stdout",
     "output_type": "stream",
     "text": [
      "\n"
     ]
    }
   ],
   "source": [
    "print('')"
   ]
  },
  {
   "cell_type": "code",
   "execution_count": 12,
   "id": "277d1cdb-7825-4f7d-8a4e-41ee654890da",
   "metadata": {
    "tags": []
   },
   "outputs": [
    {
     "name": "stdout",
     "output_type": "stream",
     "text": [
      "this string contains single quote (') character.\n",
      "this string contains double quote (\") character.\n"
     ]
    }
   ],
   "source": [
    "print(\"this string contains single quote (') character.\")\n",
    "print('this string contains double quote (\") character.')"
   ]
  },
  {
   "cell_type": "markdown",
   "id": "0ed28fd3-e4e2-45be-9f25-8ca8c2f616a9",
   "metadata": {
    "jp-MarkdownHeadingCollapsed": true,
    "tags": []
   },
   "source": [
    "# Boolean"
   ]
  },
  {
   "cell_type": "code",
   "execution_count": 14,
   "id": "ea9285e3-a980-47e7-a9f4-8d2bd8964284",
   "metadata": {
    "tags": []
   },
   "outputs": [
    {
     "name": "stdout",
     "output_type": "stream",
     "text": [
      "<class 'bool'>\n",
      "<class 'bool'>\n"
     ]
    }
   ],
   "source": [
    "print(type(True))\n",
    "print(type(False))"
   ]
  },
  {
   "cell_type": "markdown",
   "id": "b816ca00-5839-4659-b705-2530ace0215d",
   "metadata": {},
   "source": [
    "# Variable"
   ]
  },
  {
   "cell_type": "markdown",
   "id": "18b11da4-dab5-4a7f-87c4-eb7381ccac27",
   "metadata": {
    "jp-MarkdownHeadingCollapsed": true,
    "tags": []
   },
   "source": [
    "## Assignment"
   ]
  },
  {
   "cell_type": "code",
   "execution_count": 15,
   "id": "eea2d3a4-c6e4-4f87-b719-cc667920d5d2",
   "metadata": {
    "tags": []
   },
   "outputs": [
    {
     "name": "stdout",
     "output_type": "stream",
     "text": [
      "300\n"
     ]
    }
   ],
   "source": [
    "n = 300\n",
    "print(n)"
   ]
  },
  {
   "cell_type": "code",
   "execution_count": 16,
   "id": "c872c087-1a42-48c5-8c6b-36bc0815c135",
   "metadata": {
    "tags": []
   },
   "outputs": [
    {
     "data": {
      "text/plain": [
       "300"
      ]
     },
     "execution_count": 16,
     "metadata": {},
     "output_type": "execute_result"
    }
   ],
   "source": [
    "n"
   ]
  },
  {
   "cell_type": "code",
   "execution_count": 17,
   "id": "d922d440-47b9-4824-9153-29429341f143",
   "metadata": {
    "tags": []
   },
   "outputs": [
    {
     "name": "stdout",
     "output_type": "stream",
     "text": [
      "1000\n"
     ]
    },
    {
     "data": {
      "text/plain": [
       "1000"
      ]
     },
     "execution_count": 17,
     "metadata": {},
     "output_type": "execute_result"
    }
   ],
   "source": [
    "n = 1000\n",
    "print(n)\n",
    "n"
   ]
  },
  {
   "cell_type": "code",
   "execution_count": 18,
   "id": "059f6152-f8ab-4b50-af5e-5de8f901c854",
   "metadata": {
    "tags": []
   },
   "outputs": [
    {
     "name": "stdout",
     "output_type": "stream",
     "text": [
      "300 300 300\n"
     ]
    }
   ],
   "source": [
    "# Multiple Assignment\n",
    "a = b = c = 300\n",
    "print(a, b, c)"
   ]
  },
  {
   "cell_type": "markdown",
   "id": "647e22d4-1cad-45ec-87af-bb5c87805f2c",
   "metadata": {
    "jp-MarkdownHeadingCollapsed": true,
    "tags": []
   },
   "source": [
    "## Variable Types"
   ]
  },
  {
   "cell_type": "code",
   "execution_count": 19,
   "id": "d953c4fb-91d3-4a3a-a051-f70a9d0d9c77",
   "metadata": {
    "tags": []
   },
   "outputs": [
    {
     "name": "stdout",
     "output_type": "stream",
     "text": [
      "42.0\n",
      "Jadi String\n"
     ]
    }
   ],
   "source": [
    "var = 42.0\n",
    "print(var)\n",
    "\n",
    "var = 'Jadi String'\n",
    "print(var)"
   ]
  },
  {
   "cell_type": "markdown",
   "id": "862e0621-40a7-40cd-95b8-2531f15f5d92",
   "metadata": {},
   "source": [
    "## Naming Rules"
   ]
  },
  {
   "cell_type": "code",
   "execution_count": 20,
   "id": "3cdbece6-09b3-44fa-ba75-d704baadaf4c",
   "metadata": {
    "tags": []
   },
   "outputs": [
    {
     "name": "stdout",
     "output_type": "stream",
     "text": [
      "Hacktiv8 69 True\n"
     ]
    }
   ],
   "source": [
    "name = 'Hacktiv8'\n",
    "Age = 69\n",
    "has_laptop = True\n",
    "\n",
    "print(name, Age, has_laptop)"
   ]
  },
  {
   "cell_type": "code",
   "execution_count": 22,
   "id": "9809024a-a7f6-46b3-8a55-2d147948485e",
   "metadata": {
    "tags": []
   },
   "outputs": [
    {
     "ename": "SyntaxError",
     "evalue": "invalid decimal literal (980072853.py, line 1)",
     "output_type": "error",
     "traceback": [
      "\u001b[0;36m  Cell \u001b[0;32mIn[22], line 1\u001b[0;36m\u001b[0m\n\u001b[0;31m    7_sins = True\u001b[0m\n\u001b[0m     ^\u001b[0m\n\u001b[0;31mSyntaxError\u001b[0m\u001b[0;31m:\u001b[0m invalid decimal literal\n"
     ]
    }
   ],
   "source": [
    "7_sins = True"
   ]
  },
  {
   "cell_type": "code",
   "execution_count": 23,
   "id": "614dcfa1-4cba-46e3-aad5-c5258abd5020",
   "metadata": {
    "tags": []
   },
   "outputs": [],
   "source": [
    "age = 1\n",
    "Age = 2\n",
    "aGe = 3\n",
    "AGE = 4\n",
    "a_g_e = 5"
   ]
  },
  {
   "cell_type": "code",
   "execution_count": 24,
   "id": "a41a6626-8f29-4a5a-8705-fb217ffd28fd",
   "metadata": {
    "tags": []
   },
   "outputs": [
    {
     "name": "stdout",
     "output_type": "stream",
     "text": [
      "1 2 3 4 5\n"
     ]
    }
   ],
   "source": [
    "print(age, Age, aGe, AGE, a_g_e)"
   ]
  },
  {
   "cell_type": "code",
   "execution_count": 25,
   "id": "9e208cfa-45eb-4903-8a1d-0fa9e3c9932a",
   "metadata": {
    "tags": []
   },
   "outputs": [],
   "source": [
    "# camelCase\n",
    "tinggiBadan = 170.0\n",
    "hasPhoneOrLaptop = True\n",
    "\n",
    "# PascalCase\n",
    "TinggiBadan = 168.0\n",
    "HasPhoneOrLaptop = False\n",
    "\n",
    "# snake_case\n",
    "tinggi_badan = 160.0\n",
    "has_phone_or_laptop = True"
   ]
  },
  {
   "cell_type": "code",
   "execution_count": 26,
   "id": "ccb5032e-7c9d-4bca-b479-1f5b2879dd75",
   "metadata": {
    "tags": []
   },
   "outputs": [
    {
     "name": "stdout",
     "output_type": "stream",
     "text": [
      "170.0 True\n",
      "168.0 False\n",
      "160.0 True\n"
     ]
    }
   ],
   "source": [
    "print(tinggiBadan, hasPhoneOrLaptop)\n",
    "print(TinggiBadan, HasPhoneOrLaptop)\n",
    "print(tinggi_badan, has_phone_or_laptop)"
   ]
  },
  {
   "cell_type": "code",
   "execution_count": null,
   "id": "43d88d57-0282-4835-8a90-67c7a32be0fc",
   "metadata": {},
   "outputs": [],
   "source": []
  }
 ],
 "metadata": {
  "kernelspec": {
   "display_name": "Python 3 (ipykernel)",
   "language": "python",
   "name": "python3"
  },
  "language_info": {
   "codemirror_mode": {
    "name": "ipython",
    "version": 3
   },
   "file_extension": ".py",
   "mimetype": "text/x-python",
   "name": "python",
   "nbconvert_exporter": "python",
   "pygments_lexer": "ipython3",
   "version": "3.11.4"
  }
 },
 "nbformat": 4,
 "nbformat_minor": 5
}
