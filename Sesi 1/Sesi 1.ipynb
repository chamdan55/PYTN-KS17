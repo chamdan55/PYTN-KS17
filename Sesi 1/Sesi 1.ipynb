{
 "cells": [
  {
   "cell_type": "markdown",
   "id": "8be754c3-791c-4991-821f-33a300f85158",
   "metadata": {
    "jp-MarkdownHeadingCollapsed": true,
    "tags": []
   },
   "source": [
    "# Integer"
   ]
  },
  {
   "cell_type": "code",
   "execution_count": 2,
   "id": "3bce14ba-8e04-4793-a667-d323581a9571",
   "metadata": {
    "tags": []
   },
   "outputs": [
    {
     "data": {
      "text/plain": [
       "10000000000"
      ]
     },
     "execution_count": 2,
     "metadata": {},
     "output_type": "execute_result"
    }
   ],
   "source": [
    "10000000000"
   ]
  },
  {
   "cell_type": "code",
   "execution_count": 3,
   "id": "863ce8a5-965c-46ca-b75c-6e57eb06f570",
   "metadata": {
    "tags": []
   },
   "outputs": [
    {
     "data": {
      "text/plain": [
       "int"
      ]
     },
     "execution_count": 3,
     "metadata": {},
     "output_type": "execute_result"
    }
   ],
   "source": [
    "type(10)"
   ]
  },
  {
   "cell_type": "code",
   "execution_count": 4,
   "id": "7b30af4a-9f19-42f8-b655-b2405a575402",
   "metadata": {
    "tags": []
   },
   "outputs": [
    {
     "name": "stdout",
     "output_type": "stream",
     "text": [
      "10\n",
      "<class 'int'>\n"
     ]
    }
   ],
   "source": [
    "print(10)\n",
    "print(type(10))"
   ]
  },
  {
   "cell_type": "markdown",
   "id": "ecbb5f32-9f8b-47fd-baf2-615d2363489a",
   "metadata": {
    "jp-MarkdownHeadingCollapsed": true,
    "tags": []
   },
   "source": [
    "# Floating Point"
   ]
  },
  {
   "cell_type": "code",
   "execution_count": 5,
   "id": "686d40ac-d03b-4dba-b5ae-9f60e65e2add",
   "metadata": {
    "tags": []
   },
   "outputs": [
    {
     "name": "stdout",
     "output_type": "stream",
     "text": [
      "4.2\n",
      "<class 'float'>\n",
      "4.0\n",
      "0.2\n",
      "4000000.0\n",
      "0.00042\n"
     ]
    }
   ],
   "source": [
    "print(4.2)\n",
    "print(type(4.2))\n",
    "\n",
    "print(4.)\n",
    "print(.2)\n",
    "print(.4e7)\n",
    "print(4.2e-4)"
   ]
  },
  {
   "cell_type": "markdown",
   "id": "e047c90e-d5aa-4f9c-ba66-6e7c44d7caf6",
   "metadata": {
    "jp-MarkdownHeadingCollapsed": true,
    "tags": []
   },
   "source": [
    "# String"
   ]
  },
  {
   "cell_type": "code",
   "execution_count": 5,
   "id": "d713666a-9125-40ce-af8e-68d20ad80dcc",
   "metadata": {
    "tags": []
   },
   "outputs": [
    {
     "name": "stdout",
     "output_type": "stream",
     "text": [
      "PYTN-KS17\n",
      "<class 'str'>\n"
     ]
    }
   ],
   "source": [
    "print('PYTN-KS17')\n",
    "print(type('PYTN-KS17'))"
   ]
  },
  {
   "cell_type": "code",
   "execution_count": 7,
   "id": "d43cc380-a4f8-44c9-9b81-33016a75f801",
   "metadata": {
    "tags": []
   },
   "outputs": [
    {
     "name": "stdout",
     "output_type": "stream",
     "text": [
      "\n"
     ]
    }
   ],
   "source": [
    "print('')"
   ]
  },
  {
   "cell_type": "code",
   "execution_count": 12,
   "id": "277d1cdb-7825-4f7d-8a4e-41ee654890da",
   "metadata": {
    "tags": []
   },
   "outputs": [
    {
     "name": "stdout",
     "output_type": "stream",
     "text": [
      "this string contains single quote (') character.\n",
      "this string contains double quote (\") character.\n"
     ]
    }
   ],
   "source": [
    "print(\"this string contains single quote (') character.\")\n",
    "print('this string contains double quote (\") character.')"
   ]
  },
  {
   "cell_type": "code",
   "execution_count": 10,
   "id": "dfe057bd-33c0-4ed8-b6fc-2bb4a56f7517",
   "metadata": {
    "tags": []
   },
   "outputs": [
    {
     "name": "stdout",
     "output_type": "stream",
     "text": [
      "cobakutip\n"
     ]
    }
   ],
   "source": [
    "print('coba''kutip')"
   ]
  },
  {
   "cell_type": "markdown",
   "id": "0ed28fd3-e4e2-45be-9f25-8ca8c2f616a9",
   "metadata": {
    "jp-MarkdownHeadingCollapsed": true,
    "tags": []
   },
   "source": [
    "# Boolean"
   ]
  },
  {
   "cell_type": "code",
   "execution_count": 14,
   "id": "ea9285e3-a980-47e7-a9f4-8d2bd8964284",
   "metadata": {
    "tags": []
   },
   "outputs": [
    {
     "name": "stdout",
     "output_type": "stream",
     "text": [
      "<class 'bool'>\n",
      "<class 'bool'>\n"
     ]
    }
   ],
   "source": [
    "print(type(True))\n",
    "print(type(False))"
   ]
  },
  {
   "cell_type": "markdown",
   "id": "b816ca00-5839-4659-b705-2530ace0215d",
   "metadata": {
    "jp-MarkdownHeadingCollapsed": true,
    "tags": []
   },
   "source": [
    "# Variable"
   ]
  },
  {
   "cell_type": "markdown",
   "id": "18b11da4-dab5-4a7f-87c4-eb7381ccac27",
   "metadata": {
    "tags": []
   },
   "source": [
    "## Assignment"
   ]
  },
  {
   "cell_type": "code",
   "execution_count": 11,
   "id": "eea2d3a4-c6e4-4f87-b719-cc667920d5d2",
   "metadata": {
    "tags": []
   },
   "outputs": [
    {
     "name": "stdout",
     "output_type": "stream",
     "text": [
      "300\n"
     ]
    }
   ],
   "source": [
    "n = 300\n",
    "print(n)"
   ]
  },
  {
   "cell_type": "code",
   "execution_count": 12,
   "id": "c872c087-1a42-48c5-8c6b-36bc0815c135",
   "metadata": {
    "tags": []
   },
   "outputs": [
    {
     "data": {
      "text/plain": [
       "300"
      ]
     },
     "execution_count": 12,
     "metadata": {},
     "output_type": "execute_result"
    }
   ],
   "source": [
    "n"
   ]
  },
  {
   "cell_type": "code",
   "execution_count": 13,
   "id": "d922d440-47b9-4824-9153-29429341f143",
   "metadata": {
    "tags": []
   },
   "outputs": [
    {
     "name": "stdout",
     "output_type": "stream",
     "text": [
      "1000\n"
     ]
    },
    {
     "data": {
      "text/plain": [
       "1000"
      ]
     },
     "execution_count": 13,
     "metadata": {},
     "output_type": "execute_result"
    }
   ],
   "source": [
    "n = 1000\n",
    "print(n)\n",
    "n"
   ]
  },
  {
   "cell_type": "code",
   "execution_count": 14,
   "id": "059f6152-f8ab-4b50-af5e-5de8f901c854",
   "metadata": {
    "tags": []
   },
   "outputs": [
    {
     "name": "stdout",
     "output_type": "stream",
     "text": [
      "300 300 300\n"
     ]
    }
   ],
   "source": [
    "# Multiple Assignment\n",
    "a = 300\n",
    "b = 300\n",
    "c = 300\n",
    "print(a, b, c)"
   ]
  },
  {
   "cell_type": "markdown",
   "id": "647e22d4-1cad-45ec-87af-bb5c87805f2c",
   "metadata": {
    "tags": []
   },
   "source": [
    "## Variable Types"
   ]
  },
  {
   "cell_type": "code",
   "execution_count": 15,
   "id": "d953c4fb-91d3-4a3a-a051-f70a9d0d9c77",
   "metadata": {
    "tags": []
   },
   "outputs": [
    {
     "name": "stdout",
     "output_type": "stream",
     "text": [
      "42.0\n",
      "Jadi String\n"
     ]
    }
   ],
   "source": [
    "var = 42.0\n",
    "print(var)\n",
    "\n",
    "var = 'Jadi String'\n",
    "print(var)"
   ]
  },
  {
   "cell_type": "markdown",
   "id": "862e0621-40a7-40cd-95b8-2531f15f5d92",
   "metadata": {
    "tags": []
   },
   "source": [
    "## Naming Rules"
   ]
  },
  {
   "cell_type": "code",
   "execution_count": 20,
   "id": "3cdbece6-09b3-44fa-ba75-d704baadaf4c",
   "metadata": {
    "tags": []
   },
   "outputs": [
    {
     "name": "stdout",
     "output_type": "stream",
     "text": [
      "Hacktiv8 69 True\n"
     ]
    }
   ],
   "source": [
    "name = 'Hacktiv8'\n",
    "Age = 69\n",
    "has_laptop = True\n",
    "\n",
    "print(name, Age, has_laptop)"
   ]
  },
  {
   "cell_type": "code",
   "execution_count": 22,
   "id": "9809024a-a7f6-46b3-8a55-2d147948485e",
   "metadata": {
    "tags": []
   },
   "outputs": [
    {
     "ename": "SyntaxError",
     "evalue": "invalid decimal literal (980072853.py, line 1)",
     "output_type": "error",
     "traceback": [
      "\u001b[0;36m  Cell \u001b[0;32mIn[22], line 1\u001b[0;36m\u001b[0m\n\u001b[0;31m    7_sins = True\u001b[0m\n\u001b[0m     ^\u001b[0m\n\u001b[0;31mSyntaxError\u001b[0m\u001b[0;31m:\u001b[0m invalid decimal literal\n"
     ]
    }
   ],
   "source": [
    "7_sins = True"
   ]
  },
  {
   "cell_type": "code",
   "execution_count": 16,
   "id": "d8492e6e-bcde-461d-84b7-273e1f432471",
   "metadata": {
    "tags": []
   },
   "outputs": [],
   "source": [
    "sins_7 = True"
   ]
  },
  {
   "cell_type": "code",
   "execution_count": 17,
   "id": "614dcfa1-4cba-46e3-aad5-c5258abd5020",
   "metadata": {
    "tags": []
   },
   "outputs": [],
   "source": [
    "age = 1\n",
    "Age = 2\n",
    "aGe = 3\n",
    "AGE = 4\n",
    "a_g_e = 5"
   ]
  },
  {
   "cell_type": "code",
   "execution_count": 18,
   "id": "a41a6626-8f29-4a5a-8705-fb217ffd28fd",
   "metadata": {
    "tags": []
   },
   "outputs": [
    {
     "name": "stdout",
     "output_type": "stream",
     "text": [
      "1 2 3 4 5\n"
     ]
    }
   ],
   "source": [
    "print(age, Age, aGe, AGE, a_g_e)"
   ]
  },
  {
   "cell_type": "code",
   "execution_count": 25,
   "id": "9e208cfa-45eb-4903-8a1d-0fa9e3c9932a",
   "metadata": {
    "tags": []
   },
   "outputs": [],
   "source": [
    "# camelCase\n",
    "tinggiBadan = 170.0\n",
    "hasPhoneOrLaptop = True\n",
    "\n",
    "# PascalCase\n",
    "TinggiBadan = 168.0\n",
    "HasPhoneOrLaptop = False\n",
    "\n",
    "# snake_case\n",
    "tinggi_badan = 160.0\n",
    "has_phone_or_laptop = True"
   ]
  },
  {
   "cell_type": "code",
   "execution_count": 26,
   "id": "ccb5032e-7c9d-4bca-b479-1f5b2879dd75",
   "metadata": {
    "tags": []
   },
   "outputs": [
    {
     "name": "stdout",
     "output_type": "stream",
     "text": [
      "170.0 True\n",
      "168.0 False\n",
      "160.0 True\n"
     ]
    }
   ],
   "source": [
    "print(tinggiBadan, hasPhoneOrLaptop)\n",
    "print(TinggiBadan, HasPhoneOrLaptop)\n",
    "print(tinggi_badan, has_phone_or_laptop)"
   ]
  },
  {
   "cell_type": "markdown",
   "id": "2cbbceb3-863f-4649-993a-8de298ba9c78",
   "metadata": {
    "jp-MarkdownHeadingCollapsed": true,
    "tags": []
   },
   "source": [
    "# Operators and Expression"
   ]
  },
  {
   "cell_type": "code",
   "execution_count": 29,
   "id": "51db069f-ea9d-4742-ba1b-0ec17751548d",
   "metadata": {
    "tags": []
   },
   "outputs": [
    {
     "data": {
      "text/plain": [
       "30"
      ]
     },
     "execution_count": 29,
     "metadata": {},
     "output_type": "execute_result"
    }
   ],
   "source": [
    "a = 10\n",
    "b = 20\n",
    "a+b"
   ]
  },
  {
   "cell_type": "code",
   "execution_count": 30,
   "id": "71671d89-eda6-4772-af22-d18d50de118d",
   "metadata": {
    "tags": []
   },
   "outputs": [
    {
     "data": {
      "text/plain": [
       "25"
      ]
     },
     "execution_count": 30,
     "metadata": {},
     "output_type": "execute_result"
    }
   ],
   "source": [
    "a+b-5"
   ]
  },
  {
   "cell_type": "markdown",
   "id": "ca91b521-a825-4e26-8baa-58748487137f",
   "metadata": {
    "jp-MarkdownHeadingCollapsed": true,
    "tags": []
   },
   "source": [
    "## Aritmethic Operators"
   ]
  },
  {
   "cell_type": "code",
   "execution_count": 38,
   "id": "ca94e1c8-10bc-4bdd-a576-49902b38f873",
   "metadata": {
    "tags": []
   },
   "outputs": [
    {
     "name": "stdout",
     "output_type": "stream",
     "text": [
      "7\n",
      "1\n",
      "12\n",
      "1.3333333333333333\n",
      "1\n",
      "64\n",
      "20\n"
     ]
    }
   ],
   "source": [
    "a = 4\n",
    "b = 3\n",
    "\n",
    "print(a + b)\n",
    "print(a - b)\n",
    "print(a * b)\n",
    "print(a / b)\n",
    "print(a % b)\n",
    "print(a ** b)\n",
    "\n",
    "print(62 // 3) # Floor Division"
   ]
  },
  {
   "cell_type": "code",
   "execution_count": 39,
   "id": "4be10433-49b6-4aae-b77a-e6ffd2106a12",
   "metadata": {
    "tags": []
   },
   "outputs": [
    {
     "data": {
      "text/plain": [
       "2.0"
      ]
     },
     "execution_count": 39,
     "metadata": {},
     "output_type": "execute_result"
    }
   ],
   "source": [
    "10 / 5"
   ]
  },
  {
   "cell_type": "markdown",
   "id": "3501d9ab-ba30-421e-8ab0-882b01486918",
   "metadata": {
    "tags": []
   },
   "source": [
    "## Comparison Operators"
   ]
  },
  {
   "cell_type": "code",
   "execution_count": 19,
   "id": "13e1783c-9659-431d-bbb1-34bc63fccc9e",
   "metadata": {
    "tags": []
   },
   "outputs": [
    {
     "name": "stdout",
     "output_type": "stream",
     "text": [
      "False\n",
      "True\n",
      "True\n",
      "False\n",
      "True\n",
      "False\n"
     ]
    }
   ],
   "source": [
    "a = 10\n",
    "b = 20\n",
    "\n",
    "print(a == b)\n",
    "print(a != b)\n",
    "print(a <= b)\n",
    "print(a >= b)\n",
    "\n",
    "print(a < b)\n",
    "print(a > b)"
   ]
  },
  {
   "cell_type": "code",
   "execution_count": 41,
   "id": "8e92791d-6dcb-4daa-82e7-e18ed1b6a736",
   "metadata": {
    "tags": []
   },
   "outputs": [
    {
     "name": "stdout",
     "output_type": "stream",
     "text": [
      "True\n",
      "True\n",
      "True\n"
     ]
    }
   ],
   "source": [
    "a = 30\n",
    "b = 30\n",
    "\n",
    "print(a == b)\n",
    "print(a <= b)\n",
    "print(a >= b)"
   ]
  },
  {
   "cell_type": "markdown",
   "id": "3a2132f1-401e-437e-991d-4d9b1d74cd6e",
   "metadata": {},
   "source": [
    "# String Manipulation"
   ]
  },
  {
   "cell_type": "code",
   "execution_count": 20,
   "id": "068307c0-5f5d-464c-a9ad-e80648db250d",
   "metadata": {},
   "outputs": [],
   "source": [
    "s = 'foo'\n",
    "t = 'bar'\n",
    "u = 'baz'"
   ]
  },
  {
   "cell_type": "code",
   "execution_count": 22,
   "id": "91e4796d-6ae0-4a3a-abdf-f2ffeac54dd7",
   "metadata": {
    "tags": []
   },
   "outputs": [
    {
     "name": "stdout",
     "output_type": "stream",
     "text": [
      "foobarbaz\n"
     ]
    }
   ],
   "source": [
    "print(s+t+u)"
   ]
  },
  {
   "cell_type": "code",
   "execution_count": 24,
   "id": "299f656a-20f1-445d-a927-edccaa552e9e",
   "metadata": {
    "tags": []
   },
   "outputs": [
    {
     "name": "stdout",
     "output_type": "stream",
     "text": [
      "test string\n"
     ]
    }
   ],
   "source": [
    "print('test '+'string')"
   ]
  },
  {
   "cell_type": "code",
   "execution_count": 25,
   "id": "ecb2e2f4-acec-427a-ad8a-788afd624eae",
   "metadata": {
    "tags": []
   },
   "outputs": [
    {
     "data": {
      "text/plain": [
       "'foofoofoofoo'"
      ]
     },
     "execution_count": 25,
     "metadata": {},
     "output_type": "execute_result"
    }
   ],
   "source": [
    "s*4"
   ]
  },
  {
   "cell_type": "code",
   "execution_count": 27,
   "id": "0c153c34-beba-4a35-9995-c446d25882ec",
   "metadata": {
    "tags": []
   },
   "outputs": [
    {
     "name": "stdout",
     "output_type": "stream",
     "text": [
      "False\n"
     ]
    }
   ],
   "source": [
    "print(s in 'That good for us')"
   ]
  },
  {
   "cell_type": "code",
   "execution_count": 35,
   "id": "be6ebcc5-e0a2-4592-8a35-08315e2891ae",
   "metadata": {
    "tags": []
   },
   "outputs": [],
   "source": [
    "s = 'HackTIV8 Python test'"
   ]
  },
  {
   "cell_type": "code",
   "execution_count": 31,
   "id": "36223b03-99a3-4171-a71a-70d9fc20ff6d",
   "metadata": {
    "tags": []
   },
   "outputs": [
    {
     "name": "stdout",
     "output_type": "stream",
     "text": [
      "Hacktiv8 python\n"
     ]
    }
   ],
   "source": [
    "print(s.capitalize())"
   ]
  },
  {
   "cell_type": "code",
   "execution_count": 32,
   "id": "557ec76f-358f-4426-8f9e-67e96e65801d",
   "metadata": {
    "tags": []
   },
   "outputs": [
    {
     "name": "stdout",
     "output_type": "stream",
     "text": [
      "hacktiv8 python\n"
     ]
    }
   ],
   "source": [
    "print(s.lower())"
   ]
  },
  {
   "cell_type": "code",
   "execution_count": 33,
   "id": "8e399f0b-ea73-4440-965d-881c811bd77d",
   "metadata": {
    "tags": []
   },
   "outputs": [
    {
     "name": "stdout",
     "output_type": "stream",
     "text": [
      "hACKtiv8 pYTHON\n"
     ]
    }
   ],
   "source": [
    "print(s.swapcase())"
   ]
  },
  {
   "cell_type": "code",
   "execution_count": 36,
   "id": "dee6a732-7946-471d-9745-1bad7975e5a7",
   "metadata": {
    "tags": []
   },
   "outputs": [
    {
     "name": "stdout",
     "output_type": "stream",
     "text": [
      "Hacktiv8 Python Test\n"
     ]
    }
   ],
   "source": [
    "print(s.title())"
   ]
  },
  {
   "cell_type": "code",
   "execution_count": 37,
   "id": "cb913866-ec58-4f2a-b087-d45f4263acdc",
   "metadata": {
    "tags": []
   },
   "outputs": [
    {
     "name": "stdout",
     "output_type": "stream",
     "text": [
      "HACKTIV8 PYTHON TEST\n"
     ]
    }
   ],
   "source": [
    "print(s.upper())"
   ]
  },
  {
   "cell_type": "markdown",
   "id": "596ebdb7-b689-4e6a-869d-90b7879b09f3",
   "metadata": {},
   "source": [
    "# List"
   ]
  },
  {
   "cell_type": "code",
   "execution_count": 42,
   "id": "d5c38a63-bba9-4a9d-975f-94f2d330c000",
   "metadata": {
    "tags": []
   },
   "outputs": [],
   "source": [
    "var = ['foo', 'bar', 'baz', 'qux']\n",
    "var2 = ['bar', 'foo', 'baz', 'qux']"
   ]
  },
  {
   "cell_type": "code",
   "execution_count": 41,
   "id": "27e5a380-5d6b-4a76-8100-f2e9f3d0a07c",
   "metadata": {
    "tags": []
   },
   "outputs": [
    {
     "data": {
      "text/plain": [
       "list"
      ]
     },
     "execution_count": 41,
     "metadata": {},
     "output_type": "execute_result"
    }
   ],
   "source": [
    "type(var)"
   ]
  },
  {
   "cell_type": "code",
   "execution_count": 43,
   "id": "708d430f-a951-4a2b-9dd1-1c03dbbdb0a4",
   "metadata": {
    "tags": []
   },
   "outputs": [
    {
     "data": {
      "text/plain": [
       "False"
      ]
     },
     "execution_count": 43,
     "metadata": {},
     "output_type": "execute_result"
    }
   ],
   "source": [
    "var == var2"
   ]
  },
  {
   "cell_type": "code",
   "execution_count": 44,
   "id": "1ba912f5-4d69-4c8e-b6d6-df1616bd040f",
   "metadata": {
    "tags": []
   },
   "outputs": [],
   "source": [
    "var3 = [420, 'text', True, 6.9, 'test']"
   ]
  },
  {
   "cell_type": "code",
   "execution_count": 46,
   "id": "2d256f58-4066-4e72-8ef7-c461acd8ea8a",
   "metadata": {
    "tags": []
   },
   "outputs": [
    {
     "name": "stdout",
     "output_type": "stream",
     "text": [
      "420  is  <class 'int'>\n",
      "text  is  <class 'str'>\n",
      "True  is  <class 'bool'>\n",
      "6.9  is  <class 'float'>\n",
      "test  is  <class 'str'>\n"
     ]
    }
   ],
   "source": [
    "for item in var3:\n",
    "    print(item, ' is ', type(item))"
   ]
  },
  {
   "cell_type": "code",
   "execution_count": 49,
   "id": "ebc8d771-2404-4ba0-b77b-ff7ab62d8d92",
   "metadata": {
    "tags": []
   },
   "outputs": [
    {
     "name": "stdout",
     "output_type": "stream",
     "text": [
      "420\n",
      "6.9\n",
      "test\n"
     ]
    }
   ],
   "source": [
    "print(var3[0])\n",
    "print(var3[3])\n",
    "print(var3[4])"
   ]
  },
  {
   "cell_type": "code",
   "execution_count": 50,
   "id": "f6506a9f-bedd-4236-99c1-50c09971b314",
   "metadata": {
    "tags": []
   },
   "outputs": [
    {
     "name": "stdout",
     "output_type": "stream",
     "text": [
      "test\n"
     ]
    }
   ],
   "source": [
    "print(var3[-1])"
   ]
  },
  {
   "cell_type": "code",
   "execution_count": 51,
   "id": "494ab279-17ad-4bc4-bc84-459e18521433",
   "metadata": {
    "tags": []
   },
   "outputs": [
    {
     "name": "stdout",
     "output_type": "stream",
     "text": [
      "['text', True, 6.9]\n"
     ]
    }
   ],
   "source": [
    "print(var3[1:4])"
   ]
  },
  {
   "cell_type": "code",
   "execution_count": 52,
   "id": "2616bc1c-f4b0-4c83-a1d3-5c5594088037",
   "metadata": {
    "tags": []
   },
   "outputs": [
    {
     "name": "stdout",
     "output_type": "stream",
     "text": [
      "[420, 'text', True, 6.9, 'test', 'grault', 'graply']\n"
     ]
    }
   ],
   "source": [
    "print(var3 + ['grault', 'graply'])"
   ]
  },
  {
   "cell_type": "code",
   "execution_count": 54,
   "id": "7832c96e-d304-490e-80a6-b312f2067d8b",
   "metadata": {
    "tags": []
   },
   "outputs": [],
   "source": [
    "var3 = var3 + ['grault', 'graply']"
   ]
  },
  {
   "cell_type": "code",
   "execution_count": 55,
   "id": "734cea64-03a9-4870-8568-b371a5e0de2c",
   "metadata": {
    "tags": []
   },
   "outputs": [
    {
     "data": {
      "text/plain": [
       "[420, 'text', True, 6.9, 'test', 'grault', 'graply']"
      ]
     },
     "execution_count": 55,
     "metadata": {},
     "output_type": "execute_result"
    }
   ],
   "source": [
    "var3"
   ]
  },
  {
   "cell_type": "code",
   "execution_count": 56,
   "id": "f48dabd1-5874-4e00-ac09-eb7cbc813e5a",
   "metadata": {
    "tags": []
   },
   "outputs": [
    {
     "name": "stdout",
     "output_type": "stream",
     "text": [
      "[420, 'text', True, 6.9, 'test', 'grault', 'graply', 420, 'text', True, 6.9, 'test', 'grault', 'graply']\n"
     ]
    }
   ],
   "source": [
    "print(var3 * 2)"
   ]
  },
  {
   "cell_type": "code",
   "execution_count": 57,
   "id": "8778dc90-971f-42f3-a4c3-65759f23166c",
   "metadata": {
    "tags": []
   },
   "outputs": [
    {
     "name": "stdout",
     "output_type": "stream",
     "text": [
      "7\n"
     ]
    }
   ],
   "source": [
    "print(len(var3))"
   ]
  },
  {
   "cell_type": "code",
   "execution_count": 58,
   "id": "b50c4c2f-5103-4781-a129-c703e4b3cbe4",
   "metadata": {
    "tags": []
   },
   "outputs": [
    {
     "name": "stdout",
     "output_type": "stream",
     "text": [
      "bar\n"
     ]
    }
   ],
   "source": [
    "print(min(var2))"
   ]
  },
  {
   "cell_type": "code",
   "execution_count": 60,
   "id": "4627dfad-be20-448e-880f-4158f5b53f05",
   "metadata": {
    "tags": []
   },
   "outputs": [
    {
     "name": "stdout",
     "output_type": "stream",
     "text": [
      "qux\n"
     ]
    }
   ],
   "source": [
    "print(max(var2))"
   ]
  },
  {
   "cell_type": "code",
   "execution_count": 61,
   "id": "2f6ec630-0e5f-4d0b-b138-3e6a8f5c6592",
   "metadata": {
    "tags": []
   },
   "outputs": [
    {
     "ename": "TypeError",
     "evalue": "'<' not supported between instances of 'str' and 'int'",
     "output_type": "error",
     "traceback": [
      "\u001b[0;31m---------------------------------------------------------------------------\u001b[0m",
      "\u001b[0;31mTypeError\u001b[0m                                 Traceback (most recent call last)",
      "Cell \u001b[0;32mIn[61], line 1\u001b[0m\n\u001b[0;32m----> 1\u001b[0m \u001b[38;5;28mprint\u001b[39m(\u001b[38;5;28mmin\u001b[39m(var3))\n",
      "\u001b[0;31mTypeError\u001b[0m: '<' not supported between instances of 'str' and 'int'"
     ]
    }
   ],
   "source": [
    "print(min(var3))"
   ]
  },
  {
   "cell_type": "code",
   "execution_count": 62,
   "id": "363e9b3c-3df8-4a60-bd62-df067f40577f",
   "metadata": {
    "tags": []
   },
   "outputs": [],
   "source": [
    "var3[3] = 20"
   ]
  },
  {
   "cell_type": "code",
   "execution_count": 63,
   "id": "bc73ff27-c216-4443-9a0d-9dfd14dafbc2",
   "metadata": {
    "tags": []
   },
   "outputs": [
    {
     "data": {
      "text/plain": [
       "[420, 'text', True, 20, 'test', 'grault', 'graply']"
      ]
     },
     "execution_count": 63,
     "metadata": {},
     "output_type": "execute_result"
    }
   ],
   "source": [
    "var3"
   ]
  },
  {
   "cell_type": "code",
   "execution_count": 64,
   "id": "f4f2c73c-9d1b-4057-8771-ee72a67e671f",
   "metadata": {
    "tags": []
   },
   "outputs": [],
   "source": [
    "var3[-1] = 'grape'"
   ]
  },
  {
   "cell_type": "code",
   "execution_count": 65,
   "id": "95b55f0b-f57d-4216-b6ac-1bebb9cf381b",
   "metadata": {
    "tags": []
   },
   "outputs": [
    {
     "data": {
      "text/plain": [
       "[420, 'text', True, 20, 'test', 'grault', 'grape']"
      ]
     },
     "execution_count": 65,
     "metadata": {},
     "output_type": "execute_result"
    }
   ],
   "source": [
    "var3"
   ]
  },
  {
   "cell_type": "code",
   "execution_count": 66,
   "id": "0f83cc42-aef2-4aae-8362-51d0aa773b12",
   "metadata": {
    "tags": []
   },
   "outputs": [],
   "source": [
    "del var3[-3]"
   ]
  },
  {
   "cell_type": "code",
   "execution_count": 67,
   "id": "abed52aa-c19e-45de-94f0-5f2ca3451308",
   "metadata": {
    "tags": []
   },
   "outputs": [
    {
     "data": {
      "text/plain": [
       "[420, 'text', True, 20, 'grault', 'grape']"
      ]
     },
     "execution_count": 67,
     "metadata": {},
     "output_type": "execute_result"
    }
   ],
   "source": [
    "var3"
   ]
  },
  {
   "cell_type": "code",
   "execution_count": 72,
   "id": "826d6874-a268-4843-9f5e-2171529ef1be",
   "metadata": {
    "tags": []
   },
   "outputs": [],
   "source": [
    "var3[2:4] = [False, False, 7.5]"
   ]
  },
  {
   "cell_type": "code",
   "execution_count": 73,
   "id": "4b5b269b-f148-4c97-b0a1-e766e177d4eb",
   "metadata": {
    "tags": []
   },
   "outputs": [
    {
     "data": {
      "text/plain": [
       "[420, 'text', False, False, 7.5, 'grault', 'grape']"
      ]
     },
     "execution_count": 73,
     "metadata": {},
     "output_type": "execute_result"
    }
   ],
   "source": [
    "var3 "
   ]
  },
  {
   "cell_type": "markdown",
   "id": "cd871278-9b45-459b-9b30-9fb0ffe61fdf",
   "metadata": {},
   "source": [
    "# Tuple"
   ]
  },
  {
   "cell_type": "code",
   "execution_count": 74,
   "id": "db596a6b-905e-47bb-8df4-748a2f16b16e",
   "metadata": {
    "tags": []
   },
   "outputs": [],
   "source": [
    "t = ('foo', 'bar', 'baz', 'qux', 'quux', 'corge')"
   ]
  },
  {
   "cell_type": "code",
   "execution_count": 75,
   "id": "f135e78e-8dbd-4e9b-84d4-6a1a5b7518ad",
   "metadata": {
    "tags": []
   },
   "outputs": [
    {
     "name": "stdout",
     "output_type": "stream",
     "text": [
      "('foo', 'bar', 'baz', 'qux', 'quux', 'corge')\n"
     ]
    }
   ],
   "source": [
    "print(t)"
   ]
  },
  {
   "cell_type": "code",
   "execution_count": 76,
   "id": "d959f254-16b0-4643-8feb-558c33b964f6",
   "metadata": {
    "tags": []
   },
   "outputs": [
    {
     "data": {
      "text/plain": [
       "tuple"
      ]
     },
     "execution_count": 76,
     "metadata": {},
     "output_type": "execute_result"
    }
   ],
   "source": [
    "type(t)"
   ]
  },
  {
   "cell_type": "code",
   "execution_count": 77,
   "id": "7991402b-77e4-4a46-a534-eacbdc36767f",
   "metadata": {
    "tags": []
   },
   "outputs": [
    {
     "name": "stdout",
     "output_type": "stream",
     "text": [
      "foo\n",
      "quux\n"
     ]
    }
   ],
   "source": [
    "print(t[0])\n",
    "print(t[-2])"
   ]
  },
  {
   "cell_type": "code",
   "execution_count": 78,
   "id": "1ba3c3ff-bc0f-47c7-97dd-feeb35538bac",
   "metadata": {
    "tags": []
   },
   "outputs": [],
   "source": [
    "s1, s2, s3, s4, s5, s6 = t"
   ]
  },
  {
   "cell_type": "code",
   "execution_count": 79,
   "id": "d56b2bdf-39fa-4253-8dfa-53e657134257",
   "metadata": {
    "tags": []
   },
   "outputs": [
    {
     "name": "stdout",
     "output_type": "stream",
     "text": [
      "foo\n",
      "bar\n",
      "baz\n",
      "qux\n",
      "quux\n",
      "corge\n"
     ]
    }
   ],
   "source": [
    "print(s1)\n",
    "print(s2)\n",
    "print(s3)\n",
    "print(s4)\n",
    "print(s5)\n",
    "print(s6)"
   ]
  },
  {
   "cell_type": "markdown",
   "id": "63057343-1078-4695-b2f3-0c47b75affab",
   "metadata": {},
   "source": [
    "# Dictionary"
   ]
  },
  {
   "cell_type": "code",
   "execution_count": 80,
   "id": "a26e79d9-e859-4848-900a-db2158234350",
   "metadata": {
    "tags": []
   },
   "outputs": [],
   "source": [
    "MLB_team = {\n",
    "    'Colorado' : 'Rockies',\n",
    "    'Boston' : 'Red Sox',\n",
    "    'Minnesota' : 'Twins'\n",
    "}"
   ]
  },
  {
   "cell_type": "code",
   "execution_count": 81,
   "id": "66c40eae-04a7-4125-a62d-6ba82a0fe8ff",
   "metadata": {
    "tags": []
   },
   "outputs": [
    {
     "data": {
      "text/plain": [
       "'Rockies'"
      ]
     },
     "execution_count": 81,
     "metadata": {},
     "output_type": "execute_result"
    }
   ],
   "source": [
    "MLB_team['Colorado']"
   ]
  },
  {
   "cell_type": "code",
   "execution_count": 82,
   "id": "1e365802-d816-4dd0-af29-e25440eb8f58",
   "metadata": {
    "tags": []
   },
   "outputs": [
    {
     "data": {
      "text/plain": [
       "'Twins'"
      ]
     },
     "execution_count": 82,
     "metadata": {},
     "output_type": "execute_result"
    }
   ],
   "source": [
    "MLB_team['Minnesota']"
   ]
  },
  {
   "cell_type": "code",
   "execution_count": 83,
   "id": "10ee7a96-6a41-4387-9562-920591059f63",
   "metadata": {
    "tags": []
   },
   "outputs": [],
   "source": [
    "MLB_team['Kansas City'] = 'Royals'"
   ]
  },
  {
   "cell_type": "code",
   "execution_count": 84,
   "id": "09fd7698-9f7e-4d4c-b99c-5f787b733494",
   "metadata": {
    "tags": []
   },
   "outputs": [
    {
     "data": {
      "text/plain": [
       "{'Colorado': 'Rockies',\n",
       " 'Boston': 'Red Sox',\n",
       " 'Minnesota': 'Twins',\n",
       " 'Kansas City': 'Royals'}"
      ]
     },
     "execution_count": 84,
     "metadata": {},
     "output_type": "execute_result"
    }
   ],
   "source": [
    "MLB_team"
   ]
  },
  {
   "cell_type": "code",
   "execution_count": 85,
   "id": "c73b0b61-5a75-41bd-a299-42a0255dd4f2",
   "metadata": {
    "tags": []
   },
   "outputs": [],
   "source": [
    "MLB_team['Boston'] = 'RedSox'"
   ]
  },
  {
   "cell_type": "code",
   "execution_count": 86,
   "id": "f5d9e422-3172-4959-807a-c9faff661473",
   "metadata": {
    "tags": []
   },
   "outputs": [
    {
     "data": {
      "text/plain": [
       "{'Colorado': 'Rockies',\n",
       " 'Boston': 'RedSox',\n",
       " 'Minnesota': 'Twins',\n",
       " 'Kansas City': 'Royals'}"
      ]
     },
     "execution_count": 86,
     "metadata": {},
     "output_type": "execute_result"
    }
   ],
   "source": [
    "MLB_team"
   ]
  },
  {
   "cell_type": "code",
   "execution_count": 87,
   "id": "c6802fa9-5e73-4eba-b57c-1553b1aa226a",
   "metadata": {
    "tags": []
   },
   "outputs": [],
   "source": [
    "del MLB_team['Minnesota']"
   ]
  },
  {
   "cell_type": "code",
   "execution_count": 88,
   "id": "332dfb6d-c104-4877-bad5-248600aa28da",
   "metadata": {
    "tags": []
   },
   "outputs": [
    {
     "data": {
      "text/plain": [
       "{'Colorado': 'Rockies', 'Boston': 'RedSox', 'Kansas City': 'Royals'}"
      ]
     },
     "execution_count": 88,
     "metadata": {},
     "output_type": "execute_result"
    }
   ],
   "source": [
    "MLB_team"
   ]
  },
  {
   "cell_type": "code",
   "execution_count": 89,
   "id": "cafeb6e8-9355-42ef-9d1f-97e875991e0f",
   "metadata": {
    "tags": []
   },
   "outputs": [],
   "source": [
    "person = {}"
   ]
  },
  {
   "cell_type": "code",
   "execution_count": 90,
   "id": "056d2c2f-ebd0-42a7-b3a8-ba8c0e31f03f",
   "metadata": {
    "tags": []
   },
   "outputs": [
    {
     "data": {
      "text/plain": [
       "dict"
      ]
     },
     "execution_count": 90,
     "metadata": {},
     "output_type": "execute_result"
    }
   ],
   "source": [
    "type(person)"
   ]
  },
  {
   "cell_type": "code",
   "execution_count": 91,
   "id": "6a062cf4-1d64-407c-8d93-282cbf160d73",
   "metadata": {
    "tags": []
   },
   "outputs": [],
   "source": [
    "person['fname'] = 'Hack'\n",
    "person['lname'] = 'PTP'\n",
    "person['Age'] = 51\n",
    "person['spouse'] = 'Edna'\n",
    "person['children'] = ['Ralph', 'Betty', 'Joey']\n",
    "person['pets'] = {\n",
    "    'dog' : 'Fido',\n",
    "    'cat' : 'Sox'\n",
    "}"
   ]
  },
  {
   "cell_type": "code",
   "execution_count": 92,
   "id": "dbb45930-863e-4601-ac7b-d47413e77e57",
   "metadata": {
    "tags": []
   },
   "outputs": [
    {
     "data": {
      "text/plain": [
       "{'fname': 'Hack',\n",
       " 'lname': 'PTP',\n",
       " 'Age': 51,\n",
       " 'spouse': 'Edna',\n",
       " 'children': ['Ralph', 'Betty', 'Joey'],\n",
       " 'pets': {'dog': 'Fido', 'cat': 'Sox'}}"
      ]
     },
     "execution_count": 92,
     "metadata": {},
     "output_type": "execute_result"
    }
   ],
   "source": [
    "person"
   ]
  },
  {
   "cell_type": "code",
   "execution_count": 93,
   "id": "a5dac4a0-a170-4144-85eb-4f95589b88d3",
   "metadata": {
    "tags": []
   },
   "outputs": [
    {
     "name": "stdout",
     "output_type": "stream",
     "text": [
      "Hack\n",
      "51\n"
     ]
    }
   ],
   "source": [
    "print(person['fname'])\n",
    "print(person['Age'])"
   ]
  },
  {
   "cell_type": "code",
   "execution_count": 95,
   "id": "a8ac2f09-ac5f-41ed-a7cc-354bf5b9e5d4",
   "metadata": {
    "tags": []
   },
   "outputs": [
    {
     "data": {
      "text/plain": [
       "'Betty'"
      ]
     },
     "execution_count": 95,
     "metadata": {},
     "output_type": "execute_result"
    }
   ],
   "source": [
    "person['children'][1]"
   ]
  },
  {
   "cell_type": "code",
   "execution_count": 96,
   "id": "787cb66a-6254-4d90-90a2-a5e68305844a",
   "metadata": {
    "tags": []
   },
   "outputs": [
    {
     "data": {
      "text/plain": [
       "'Sox'"
      ]
     },
     "execution_count": 96,
     "metadata": {},
     "output_type": "execute_result"
    }
   ],
   "source": [
    "person['pets']['cat']"
   ]
  },
  {
   "cell_type": "code",
   "execution_count": 97,
   "id": "b1c8fbb0-c155-4eee-9365-e35c36ed7847",
   "metadata": {
    "tags": []
   },
   "outputs": [
    {
     "name": "stdout",
     "output_type": "stream",
     "text": [
      "dict_items([('fname', 'Hack'), ('lname', 'PTP'), ('Age', 51), ('spouse', 'Edna'), ('children', ['Ralph', 'Betty', 'Joey']), ('pets', {'dog': 'Fido', 'cat': 'Sox'})])\n"
     ]
    }
   ],
   "source": [
    "print(person.items())"
   ]
  },
  {
   "cell_type": "code",
   "execution_count": 98,
   "id": "f52c67ea-c8d6-4055-8f95-3fa41a318e46",
   "metadata": {
    "tags": []
   },
   "outputs": [
    {
     "name": "stdout",
     "output_type": "stream",
     "text": [
      "dict_keys(['fname', 'lname', 'Age', 'spouse', 'children', 'pets'])\n"
     ]
    }
   ],
   "source": [
    "print(person.keys())"
   ]
  },
  {
   "cell_type": "code",
   "execution_count": 99,
   "id": "b4902c8f-0d6e-4f61-847a-9f411cae2cac",
   "metadata": {
    "tags": []
   },
   "outputs": [
    {
     "name": "stdout",
     "output_type": "stream",
     "text": [
      "dict_values(['Hack', 'PTP', 51, 'Edna', ['Ralph', 'Betty', 'Joey'], {'dog': 'Fido', 'cat': 'Sox'}])\n"
     ]
    }
   ],
   "source": [
    "print(person.values())"
   ]
  },
  {
   "cell_type": "markdown",
   "id": "180c1d95-ba36-455c-b1e9-76d77956831e",
   "metadata": {},
   "source": [
    "# Line Continuation"
   ]
  },
  {
   "cell_type": "code",
   "execution_count": 100,
   "id": "e01f9058-83be-41ca-97d8-4feab12881c4",
   "metadata": {
    "tags": []
   },
   "outputs": [],
   "source": [
    "person1_age= 42\n",
    "person2_age = 16\n",
    "person3_age = 71\n"
   ]
  },
  {
   "cell_type": "code",
   "execution_count": 101,
   "id": "9bd502e6-96b9-456a-825b-dc6478678872",
   "metadata": {
    "tags": []
   },
   "outputs": [],
   "source": [
    "benarkah = (person1_age >=18 and person1_age <= 65) or (person2_age >=18 and person2_age <= 65) or (person3_age >=18 and person3_age <= 65)"
   ]
  },
  {
   "cell_type": "code",
   "execution_count": 102,
   "id": "2e8b6a35-35f7-4d98-a43b-11d639cb6c3f",
   "metadata": {
    "tags": []
   },
   "outputs": [
    {
     "data": {
      "text/plain": [
       "True"
      ]
     },
     "execution_count": 102,
     "metadata": {},
     "output_type": "execute_result"
    }
   ],
   "source": [
    "benarkah"
   ]
  },
  {
   "cell_type": "code",
   "execution_count": null,
   "id": "399d5b0e-b40e-41b6-b510-8ab35242415f",
   "metadata": {},
   "outputs": [],
   "source": []
  }
 ],
 "metadata": {
  "kernelspec": {
   "display_name": "Python 3 (ipykernel)",
   "language": "python",
   "name": "python3"
  },
  "language_info": {
   "codemirror_mode": {
    "name": "ipython",
    "version": 3
   },
   "file_extension": ".py",
   "mimetype": "text/x-python",
   "name": "python",
   "nbconvert_exporter": "python",
   "pygments_lexer": "ipython3",
   "version": "3.11.4"
  }
 },
 "nbformat": 4,
 "nbformat_minor": 5
}
