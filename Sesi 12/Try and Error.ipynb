{
 "cells": [
  {
   "cell_type": "markdown",
   "id": "c9cd0d3c-1a6f-4e39-96c4-9962880f8730",
   "metadata": {},
   "source": [
    "# Logistic Regression in Python"
   ]
  },
  {
   "cell_type": "markdown",
   "id": "58e6254c-eb17-4350-a83f-ade5a1b4a350",
   "metadata": {},
   "source": [
    "## scikit-learn: Example 1\n",
    "Step 1: Import Package, Functions, and Classes"
   ]
  },
  {
   "cell_type": "code",
   "execution_count": 3,
   "id": "9c0162f0-f508-4649-bdb5-3bbe8f31e285",
   "metadata": {
    "tags": []
   },
   "outputs": [],
   "source": [
    "# Import package\n",
    "import matplotlib.pyplot as plt\n",
    "import numpy as np\n",
    "\n",
    "from sklearn.linear_model import LogisticRegression\n",
    "from sklearn.metrics import classification_report, confusion_matrix"
   ]
  },
  {
   "cell_type": "markdown",
   "id": "4dde2012-d9d9-4037-b23f-b45c3238de79",
   "metadata": {},
   "source": [
    "Step 2: Get Data in Practice"
   ]
  },
  {
   "cell_type": "code",
   "execution_count": 4,
   "id": "013eceb5-0f7e-4e5a-91bb-bba4fced5109",
   "metadata": {
    "tags": []
   },
   "outputs": [],
   "source": [
    "# Provide input/predictor (x) and output/response (y)\n",
    "x = np.arange(10).reshape(-1,1)\n",
    "y = np.array([0, 0, 0, 0, 1, 1, 1, 1, 1, 1])"
   ]
  },
  {
   "cell_type": "code",
   "execution_count": 5,
   "id": "efd84f15-f0d9-488c-8fb5-ae89ce6340d6",
   "metadata": {
    "tags": []
   },
   "outputs": [
    {
     "name": "stdout",
     "output_type": "stream",
     "text": [
      "[[0]\n",
      " [1]\n",
      " [2]\n",
      " [3]\n",
      " [4]\n",
      " [5]\n",
      " [6]\n",
      " [7]\n",
      " [8]\n",
      " [9]]\n",
      "[0 0 0 0 1 1 1 1 1 1]\n"
     ]
    }
   ],
   "source": [
    "print(x)\n",
    "print(y)"
   ]
  },
  {
   "cell_type": "markdown",
   "id": "dee70c49-ccf2-43ea-be81-131de3ce67b8",
   "metadata": {},
   "source": [
    "Step 3: Create and Train Model"
   ]
  },
  {
   "cell_type": "code",
   "execution_count": 6,
   "id": "3df7c563-b8fa-4e4e-bc30-045f125dd397",
   "metadata": {
    "tags": []
   },
   "outputs": [],
   "source": [
    "model = LogisticRegression(solver='liblinear', random_state=0)"
   ]
  },
  {
   "cell_type": "code",
   "execution_count": 7,
   "id": "2bec7d03-20e1-4b64-9635-8617e1d4eefe",
   "metadata": {
    "tags": []
   },
   "outputs": [
    {
     "data": {
      "text/html": [
       "<style>#sk-container-id-1 {color: black;}#sk-container-id-1 pre{padding: 0;}#sk-container-id-1 div.sk-toggleable {background-color: white;}#sk-container-id-1 label.sk-toggleable__label {cursor: pointer;display: block;width: 100%;margin-bottom: 0;padding: 0.3em;box-sizing: border-box;text-align: center;}#sk-container-id-1 label.sk-toggleable__label-arrow:before {content: \"▸\";float: left;margin-right: 0.25em;color: #696969;}#sk-container-id-1 label.sk-toggleable__label-arrow:hover:before {color: black;}#sk-container-id-1 div.sk-estimator:hover label.sk-toggleable__label-arrow:before {color: black;}#sk-container-id-1 div.sk-toggleable__content {max-height: 0;max-width: 0;overflow: hidden;text-align: left;background-color: #f0f8ff;}#sk-container-id-1 div.sk-toggleable__content pre {margin: 0.2em;color: black;border-radius: 0.25em;background-color: #f0f8ff;}#sk-container-id-1 input.sk-toggleable__control:checked~div.sk-toggleable__content {max-height: 200px;max-width: 100%;overflow: auto;}#sk-container-id-1 input.sk-toggleable__control:checked~label.sk-toggleable__label-arrow:before {content: \"▾\";}#sk-container-id-1 div.sk-estimator input.sk-toggleable__control:checked~label.sk-toggleable__label {background-color: #d4ebff;}#sk-container-id-1 div.sk-label input.sk-toggleable__control:checked~label.sk-toggleable__label {background-color: #d4ebff;}#sk-container-id-1 input.sk-hidden--visually {border: 0;clip: rect(1px 1px 1px 1px);clip: rect(1px, 1px, 1px, 1px);height: 1px;margin: -1px;overflow: hidden;padding: 0;position: absolute;width: 1px;}#sk-container-id-1 div.sk-estimator {font-family: monospace;background-color: #f0f8ff;border: 1px dotted black;border-radius: 0.25em;box-sizing: border-box;margin-bottom: 0.5em;}#sk-container-id-1 div.sk-estimator:hover {background-color: #d4ebff;}#sk-container-id-1 div.sk-parallel-item::after {content: \"\";width: 100%;border-bottom: 1px solid gray;flex-grow: 1;}#sk-container-id-1 div.sk-label:hover label.sk-toggleable__label {background-color: #d4ebff;}#sk-container-id-1 div.sk-serial::before {content: \"\";position: absolute;border-left: 1px solid gray;box-sizing: border-box;top: 0;bottom: 0;left: 50%;z-index: 0;}#sk-container-id-1 div.sk-serial {display: flex;flex-direction: column;align-items: center;background-color: white;padding-right: 0.2em;padding-left: 0.2em;position: relative;}#sk-container-id-1 div.sk-item {position: relative;z-index: 1;}#sk-container-id-1 div.sk-parallel {display: flex;align-items: stretch;justify-content: center;background-color: white;position: relative;}#sk-container-id-1 div.sk-item::before, #sk-container-id-1 div.sk-parallel-item::before {content: \"\";position: absolute;border-left: 1px solid gray;box-sizing: border-box;top: 0;bottom: 0;left: 50%;z-index: -1;}#sk-container-id-1 div.sk-parallel-item {display: flex;flex-direction: column;z-index: 1;position: relative;background-color: white;}#sk-container-id-1 div.sk-parallel-item:first-child::after {align-self: flex-end;width: 50%;}#sk-container-id-1 div.sk-parallel-item:last-child::after {align-self: flex-start;width: 50%;}#sk-container-id-1 div.sk-parallel-item:only-child::after {width: 0;}#sk-container-id-1 div.sk-dashed-wrapped {border: 1px dashed gray;margin: 0 0.4em 0.5em 0.4em;box-sizing: border-box;padding-bottom: 0.4em;background-color: white;}#sk-container-id-1 div.sk-label label {font-family: monospace;font-weight: bold;display: inline-block;line-height: 1.2em;}#sk-container-id-1 div.sk-label-container {text-align: center;}#sk-container-id-1 div.sk-container {/* jupyter's `normalize.less` sets `[hidden] { display: none; }` but bootstrap.min.css set `[hidden] { display: none !important; }` so we also need the `!important` here to be able to override the default hidden behavior on the sphinx rendered scikit-learn.org. See: https://github.com/scikit-learn/scikit-learn/issues/21755 */display: inline-block !important;position: relative;}#sk-container-id-1 div.sk-text-repr-fallback {display: none;}</style><div id=\"sk-container-id-1\" class=\"sk-top-container\"><div class=\"sk-text-repr-fallback\"><pre>LogisticRegression(random_state=0, solver=&#x27;liblinear&#x27;)</pre><b>In a Jupyter environment, please rerun this cell to show the HTML representation or trust the notebook. <br />On GitHub, the HTML representation is unable to render, please try loading this page with nbviewer.org.</b></div><div class=\"sk-container\" hidden><div class=\"sk-item\"><div class=\"sk-estimator sk-toggleable\"><input class=\"sk-toggleable__control sk-hidden--visually\" id=\"sk-estimator-id-1\" type=\"checkbox\" checked><label for=\"sk-estimator-id-1\" class=\"sk-toggleable__label sk-toggleable__label-arrow\">LogisticRegression</label><div class=\"sk-toggleable__content\"><pre>LogisticRegression(random_state=0, solver=&#x27;liblinear&#x27;)</pre></div></div></div></div></div>"
      ],
      "text/plain": [
       "LogisticRegression(random_state=0, solver='liblinear')"
      ]
     },
     "execution_count": 7,
     "metadata": {},
     "output_type": "execute_result"
    }
   ],
   "source": [
    "model.fit(x,y)"
   ]
  },
  {
   "cell_type": "code",
   "execution_count": 8,
   "id": "12a09ccc-4bab-4929-aa8d-47795a0a3be1",
   "metadata": {
    "tags": []
   },
   "outputs": [],
   "source": [
    "model = LogisticRegression(solver='liblinear', random_state=0).fit(x,y)"
   ]
  },
  {
   "cell_type": "code",
   "execution_count": 9,
   "id": "2cfe946a-26c8-41b4-b2c4-a08be0b1430c",
   "metadata": {
    "tags": []
   },
   "outputs": [
    {
     "data": {
      "text/plain": [
       "array([0, 1])"
      ]
     },
     "execution_count": 9,
     "metadata": {},
     "output_type": "execute_result"
    }
   ],
   "source": [
    "model.classes_"
   ]
  },
  {
   "cell_type": "code",
   "execution_count": 10,
   "id": "690c7be2-674f-4a64-a424-02cf282dc575",
   "metadata": {
    "tags": []
   },
   "outputs": [
    {
     "name": "stdout",
     "output_type": "stream",
     "text": [
      "[-1.04608067] [[0.51491375]]\n"
     ]
    }
   ],
   "source": [
    "print(model.intercept_, model.coef_)"
   ]
  },
  {
   "cell_type": "markdown",
   "id": "b690d41b-7cb7-403f-8162-cac05cdcfdda",
   "metadata": {},
   "source": [
    "Step 4: Evaluate Model"
   ]
  },
  {
   "cell_type": "code",
   "execution_count": 11,
   "id": "ce6d78ad-f157-4dfd-af91-69c3d98b732c",
   "metadata": {
    "tags": []
   },
   "outputs": [
    {
     "data": {
      "text/plain": [
       "array([[0.74002157, 0.25997843],\n",
       "       [0.62975524, 0.37024476],\n",
       "       [0.5040632 , 0.4959368 ],\n",
       "       [0.37785549, 0.62214451],\n",
       "       [0.26628093, 0.73371907],\n",
       "       [0.17821501, 0.82178499],\n",
       "       [0.11472079, 0.88527921],\n",
       "       [0.07186982, 0.92813018],\n",
       "       [0.04422513, 0.95577487],\n",
       "       [0.02690569, 0.97309431]])"
      ]
     },
     "execution_count": 11,
     "metadata": {},
     "output_type": "execute_result"
    }
   ],
   "source": [
    "model.predict_proba(x)"
   ]
  },
  {
   "cell_type": "code",
   "execution_count": 12,
   "id": "0ba5279d-3a10-4dc3-a794-96b68284cb57",
   "metadata": {
    "tags": []
   },
   "outputs": [
    {
     "data": {
      "text/plain": [
       "array([0, 0, 0, 1, 1, 1, 1, 1, 1, 1])"
      ]
     },
     "execution_count": 12,
     "metadata": {},
     "output_type": "execute_result"
    }
   ],
   "source": [
    "model.predict(x)"
   ]
  },
  {
   "cell_type": "code",
   "execution_count": 13,
   "id": "c71962f0-f86f-447c-a97a-bad961ea0a89",
   "metadata": {
    "tags": []
   },
   "outputs": [
    {
     "data": {
      "text/plain": [
       "0.9"
      ]
     },
     "execution_count": 13,
     "metadata": {},
     "output_type": "execute_result"
    }
   ],
   "source": [
    "model.score(x,y)"
   ]
  },
  {
   "cell_type": "code",
   "execution_count": 14,
   "id": "918eb782-a884-4dd3-a555-615c81f4e347",
   "metadata": {
    "tags": []
   },
   "outputs": [
    {
     "data": {
      "text/plain": [
       "array([[3, 1],\n",
       "       [0, 6]])"
      ]
     },
     "execution_count": 14,
     "metadata": {},
     "output_type": "execute_result"
    }
   ],
   "source": [
    "confusion_matrix(y, model.predict(x))"
   ]
  },
  {
   "cell_type": "code",
   "execution_count": 19,
   "id": "4466fa3e-02cb-48f1-b934-cf3bd63cc1af",
   "metadata": {
    "tags": []
   },
   "outputs": [
    {
     "data": {
      "image/png": "[encoded data removed]",
      "text/plain": [
       "<Figure size 800x800 with 1 Axes>"
      ]
     },
     "metadata": {},
     "output_type": "display_data"
    }
   ],
   "source": [
    "cm = confusion_matrix(y, model.predict(x))\n",
    "\n",
    "fig, ax = plt.subplots(figsize=(8,8))\n",
    "ax.imshow(cm)\n",
    "ax.grid(False)\n",
    "ax.xaxis.set(ticks=(0,1), ticklabels=('Predicted 0s', 'Predicted 1s'))\n",
    "ax.yaxis.set(ticks=(0,1), ticklabels=('Actual 0s', 'Actual 1s'))\n",
    "ax.set_ylim(1.5, -.5)\n",
    "\n",
    "for i in range(2):\n",
    "    for j in range(2):\n",
    "        ax.text(j, i, cm[i, j], ha='center', va='center', color='red')\n",
    "\n",
    "        \n",
    "plt.show()"
   ]
  },
  {
   "cell_type": "code",
   "execution_count": 20,
   "id": "5bcc0bb4-a2e6-45a0-a10f-860e32337a8d",
   "metadata": {
    "tags": []
   },
   "outputs": [
    {
     "name": "stdout",
     "output_type": "stream",
     "text": [
      "              precision    recall  f1-score   support\n",
      "\n",
      "           0       1.00      0.75      0.86         4\n",
      "           1       0.86      1.00      0.92         6\n",
      "\n",
      "    accuracy                           0.90        10\n",
      "   macro avg       0.93      0.88      0.89        10\n",
      "weighted avg       0.91      0.90      0.90        10\n",
      "\n"
     ]
    }
   ],
   "source": [
    "print(classification_report(y, model.predict(x)))"
   ]
  },
  {
   "cell_type": "markdown",
   "id": "f0eee062-c33d-4cd6-bf32-157968390d7a",
   "metadata": {},
   "source": [
    "### Improve the Model"
   ]
  },
  {
   "cell_type": "code",
   "execution_count": 21,
   "id": "99e93030-79e0-4fe3-858c-ca1d01ab1144",
   "metadata": {
    "tags": []
   },
   "outputs": [],
   "source": [
    "model = LogisticRegression(\n",
    "    solver='liblinear', \n",
    "    random_state=0,\n",
    "    C=10.0\n",
    ").fit(x,y)"
   ]
  },
  {
   "cell_type": "code",
   "execution_count": 22,
   "id": "f282880a-8010-464a-9708-2fdac24b4406",
   "metadata": {
    "tags": []
   },
   "outputs": [
    {
     "name": "stdout",
     "output_type": "stream",
     "text": [
      "[-3.51335372] [[1.12066084]]\n"
     ]
    }
   ],
   "source": [
    "print(model.intercept_, model.coef_)"
   ]
  },
  {
   "cell_type": "code",
   "execution_count": 23,
   "id": "6462b9bd-0e78-4cfc-9147-679178770e91",
   "metadata": {
    "tags": []
   },
   "outputs": [
    {
     "data": {
      "text/plain": [
       "array([[0.97106534, 0.02893466],\n",
       "       [0.9162684 , 0.0837316 ],\n",
       "       [0.7810904 , 0.2189096 ],\n",
       "       [0.53777071, 0.46222929],\n",
       "       [0.27502212, 0.72497788],\n",
       "       [0.11007743, 0.88992257],\n",
       "       [0.03876835, 0.96123165],\n",
       "       [0.01298011, 0.98701989],\n",
       "       [0.0042697 , 0.9957303 ],\n",
       "       [0.00139621, 0.99860379]])"
      ]
     },
     "execution_count": 23,
     "metadata": {},
     "output_type": "execute_result"
    }
   ],
   "source": [
    "model.predict_proba(x)"
   ]
  },
  {
   "cell_type": "code",
   "execution_count": 24,
   "id": "35239a8c-91e6-43a9-b016-90aef957801f",
   "metadata": {
    "tags": []
   },
   "outputs": [
    {
     "data": {
      "text/plain": [
       "array([0, 0, 0, 0, 1, 1, 1, 1, 1, 1])"
      ]
     },
     "execution_count": 24,
     "metadata": {},
     "output_type": "execute_result"
    }
   ],
   "source": [
    "model.predict(x)"
   ]
  },
  {
   "cell_type": "code",
   "execution_count": 25,
   "id": "0d995da2-3faf-4ba1-9736-68afa7770085",
   "metadata": {
    "tags": []
   },
   "outputs": [
    {
     "data": {
      "text/plain": [
       "1.0"
      ]
     },
     "execution_count": 25,
     "metadata": {},
     "output_type": "execute_result"
    }
   ],
   "source": [
    "model.score(x,y)"
   ]
  },
  {
   "cell_type": "code",
   "execution_count": 26,
   "id": "9bebbae7-d0b0-4c13-9016-206726572465",
   "metadata": {
    "tags": []
   },
   "outputs": [
    {
     "data": {
      "text/plain": [
       "array([[4, 0],\n",
       "       [0, 6]])"
      ]
     },
     "execution_count": 26,
     "metadata": {},
     "output_type": "execute_result"
    }
   ],
   "source": [
    "confusion_matrix(y, model.predict(x))"
   ]
  },
  {
   "cell_type": "code",
   "execution_count": 27,
   "id": "03cd4fed-79fd-43a4-ad4d-0af4be43f997",
   "metadata": {
    "tags": []
   },
   "outputs": [
    {
     "name": "stdout",
     "output_type": "stream",
     "text": [
      "              precision    recall  f1-score   support\n",
      "\n",
      "           0       1.00      1.00      1.00         4\n",
      "           1       1.00      1.00      1.00         6\n",
      "\n",
      "    accuracy                           1.00        10\n",
      "   macro avg       1.00      1.00      1.00        10\n",
      "weighted avg       1.00      1.00      1.00        10\n",
      "\n"
     ]
    }
   ],
   "source": [
    "print(classification_report(y, model.predict(x)))"
   ]
  },
  {
   "cell_type": "markdown",
   "id": "e4a793a6-5164-4094-be12-9b3548a12a70",
   "metadata": {},
   "source": [
    "## Handwriting Recognition"
   ]
  },
  {
   "cell_type": "markdown",
   "id": "e7bfcc00-598a-43ae-aebf-b51702ca2693",
   "metadata": {},
   "source": [
    "Step 1: Import Packages"
   ]
  },
  {
   "cell_type": "code",
   "execution_count": 37,
   "id": "24ef74da-35da-4a19-94b2-4748f7aaf152",
   "metadata": {
    "tags": []
   },
   "outputs": [],
   "source": [
    "# Import package\n",
    "import matplotlib.pyplot as plt\n",
    "import numpy as np\n",
    "\n",
    "from sklearn.datasets import load_digits # Provide Data\n",
    "from sklearn.linear_model import LogisticRegression # for Model\n",
    "from sklearn.metrics import classification_report, confusion_matrix # for Get Result\n",
    "from sklearn.model_selection import train_test_split # for splitting data\n",
    "from sklearn.preprocessing import StandardScaler # for Scaling data"
   ]
  },
  {
   "cell_type": "markdown",
   "id": "c457bfef-3adb-4e03-9fdb-33a883fa1178",
   "metadata": {},
   "source": [
    "Step 2: Get Data"
   ]
  },
  {
   "cell_type": "code",
   "execution_count": 29,
   "id": "a9418b4b-cf3e-4379-abcf-1c41371bdfea",
   "metadata": {
    "tags": []
   },
   "outputs": [],
   "source": [
    "x, y = load_digits(return_X_y=True)"
   ]
  },
  {
   "cell_type": "code",
   "execution_count": 31,
   "id": "d85ac7b3-7777-4235-b72e-450749a6f128",
   "metadata": {
    "tags": []
   },
   "outputs": [
    {
     "data": {
      "text/plain": [
       "(1797, 64)"
      ]
     },
     "execution_count": 31,
     "metadata": {},
     "output_type": "execute_result"
    }
   ],
   "source": [
    "x.shape"
   ]
  },
  {
   "cell_type": "code",
   "execution_count": 34,
   "id": "d0daf1e0-573f-47e7-9897-7f506dce5540",
   "metadata": {
    "tags": []
   },
   "outputs": [
    {
     "name": "stdout",
     "output_type": "stream",
     "text": [
      "[[ 0.  0.  5. ...  0.  0.  0.]\n",
      " [ 0.  0.  0. ... 10.  0.  0.]\n",
      " [ 0.  0.  0. ... 16.  9.  0.]\n",
      " ...\n",
      " [ 0.  0.  1. ...  6.  0.  0.]\n",
      " [ 0.  0.  2. ... 12.  0.  0.]\n",
      " [ 0.  0. 10. ... 12.  1.  0.]]\n",
      "[0 1 2 ... 8 9 8]\n"
     ]
    }
   ],
   "source": [
    "print(x)\n",
    "print(y)"
   ]
  },
  {
   "cell_type": "markdown",
   "id": "32e30527-1ef8-43af-8f77-d7a92e096f6e",
   "metadata": {},
   "source": [
    "Step 2b: Split Data"
   ]
  },
  {
   "cell_type": "code",
   "execution_count": 36,
   "id": "3dc087ce-dcdd-45f2-856e-d1626a975cc5",
   "metadata": {
    "tags": []
   },
   "outputs": [],
   "source": [
    "x_train, x_test, y_train, y_test = train_test_split(x, y, test_size=.2, random_state=0)"
   ]
  },
  {
   "cell_type": "markdown",
   "id": "20b5267c-cd07-4d36-ac63-ed6c2d5de4a9",
   "metadata": {},
   "source": [
    "Step 2c: Scale Data"
   ]
  },
  {
   "cell_type": "code",
   "execution_count": 38,
   "id": "7b1c2d51-a48a-4d19-809e-8e06e93e5af2",
   "metadata": {
    "tags": []
   },
   "outputs": [],
   "source": [
    "scaler = StandardScaler()\n",
    "x_train = scaler.fit_transform(x_train)"
   ]
  },
  {
   "cell_type": "markdown",
   "id": "cdef36bb-267a-40f9-86b8-375b06026247",
   "metadata": {},
   "source": [
    "Step 3: Create and Train Model"
   ]
  },
  {
   "cell_type": "code",
   "execution_count": 39,
   "id": "ba11875c-8757-4b47-9043-cd40e6ebd31f",
   "metadata": {
    "tags": []
   },
   "outputs": [],
   "source": [
    "model = LogisticRegression(\n",
    "    solver='liblinear',\n",
    "    C=.05,\n",
    "    multi_class='ovr',\n",
    "    random_state=0\n",
    ").fit(x_train, y_train)"
   ]
  },
  {
   "cell_type": "markdown",
   "id": "efeec528-1fcd-443b-8725-98612fddb50d",
   "metadata": {},
   "source": [
    "Step 4: Evaluate Model"
   ]
  },
  {
   "cell_type": "code",
   "execution_count": 40,
   "id": "cb013dfe-ab35-4ce5-920c-53cec2a3834c",
   "metadata": {
    "tags": []
   },
   "outputs": [],
   "source": [
    "x_test = scaler.transform(x_test)"
   ]
  },
  {
   "cell_type": "code",
   "execution_count": 41,
   "id": "9ee77873-0918-4a36-8d1e-3c353f15ea10",
   "metadata": {
    "tags": []
   },
   "outputs": [],
   "source": [
    "y_pred = model.predict(x_test)"
   ]
  },
  {
   "cell_type": "code",
   "execution_count": 44,
   "id": "bacebae3-05cc-4e1a-8909-711ae807c0e1",
   "metadata": {
    "tags": []
   },
   "outputs": [
    {
     "name": "stdout",
     "output_type": "stream",
     "text": [
      "Train Set Accuracy : 0.964509394572025\n",
      "Test Set Accuracy : 0.9416666666666667\n"
     ]
    }
   ],
   "source": [
    "print(\"Train Set Accuracy :\",model.score(x_train, y_train))\n",
    "print(\"Test Set Accuracy :\",model.score(x_test, y_test))"
   ]
  },
  {
   "cell_type": "code",
   "execution_count": 45,
   "id": "2ce6238c-cc49-49ec-acbe-56df16b121a0",
   "metadata": {
    "tags": []
   },
   "outputs": [
    {
     "data": {
      "text/plain": [
       "array([[27,  0,  0,  0,  0,  0,  0,  0,  0,  0],\n",
       "       [ 0, 32,  0,  0,  0,  0,  1,  0,  1,  1],\n",
       "       [ 1,  1, 33,  1,  0,  0,  0,  0,  0,  0],\n",
       "       [ 0,  0,  1, 28,  0,  0,  0,  0,  0,  0],\n",
       "       [ 0,  0,  0,  0, 29,  0,  0,  1,  0,  0],\n",
       "       [ 0,  0,  0,  0,  0, 39,  0,  0,  0,  1],\n",
       "       [ 0,  1,  0,  0,  0,  0, 43,  0,  0,  0],\n",
       "       [ 0,  0,  0,  0,  0,  0,  0, 39,  0,  0],\n",
       "       [ 0,  2,  1,  2,  0,  0,  0,  1, 33,  0],\n",
       "       [ 0,  0,  0,  1,  0,  1,  0,  2,  1, 36]])"
      ]
     },
     "execution_count": 45,
     "metadata": {},
     "output_type": "execute_result"
    }
   ],
   "source": [
    "cm = confusion_matrix(y_test, y_pred)\n",
    "cm"
   ]
  },
  {
   "cell_type": "code",
   "execution_count": 46,
   "id": "c55d958c-1006-453b-9229-27590b258e94",
   "metadata": {
    "tags": []
   },
   "outputs": [
    {
     "data": {
      "image/png": "[encoded data removed]",
      "text/plain": [
       "<Figure size 800x800 with 1 Axes>"
      ]
     },
     "metadata": {},
     "output_type": "display_data"
    }
   ],
   "source": [
    "fig, ax = plt.subplots(figsize=(8, 8))\n",
    "ax.imshow(cm)\n",
    "ax.grid(False)\n",
    "ax.set_xlabel('Predicted Outputs', color='k')\n",
    "ax.set_ylabel('Actual Outputs', color='k')\n",
    "ax.xaxis.set(ticks=range(10))\n",
    "ax.yaxis.set(ticks=range(10))\n",
    "ax.set_ylim(9.5, -.5)\n",
    "\n",
    "for i in range(10):\n",
    "    for j in range(10):\n",
    "        ax.text(j, i, cm[i, j], ha='center', va='center', color='white')\n",
    "\n",
    "        \n",
    "plt.show()"
   ]
  },
  {
   "cell_type": "code",
   "execution_count": 47,
   "id": "ba7a9511-5a2c-483f-a88d-8939dc1ce074",
   "metadata": {
    "tags": []
   },
   "outputs": [
    {
     "name": "stdout",
     "output_type": "stream",
     "text": [
      "              precision    recall  f1-score   support\n",
      "\n",
      "           0       0.96      1.00      0.98        27\n",
      "           1       0.89      0.91      0.90        35\n",
      "           2       0.94      0.92      0.93        36\n",
      "           3       0.88      0.97      0.92        29\n",
      "           4       1.00      0.97      0.98        30\n",
      "           5       0.97      0.97      0.97        40\n",
      "           6       0.98      0.98      0.98        44\n",
      "           7       0.91      1.00      0.95        39\n",
      "           8       0.94      0.85      0.89        39\n",
      "           9       0.95      0.88      0.91        41\n",
      "\n",
      "    accuracy                           0.94       360\n",
      "   macro avg       0.94      0.94      0.94       360\n",
      "weighted avg       0.94      0.94      0.94       360\n",
      "\n"
     ]
    }
   ],
   "source": [
    "print(classification_report(y_test, y_pred))"
   ]
  },
  {
   "cell_type": "markdown",
   "id": "0f6a3320-ad8e-4cd2-b72b-78481796957c",
   "metadata": {},
   "source": [
    "# K-Nearest Neighbor (KNN)"
   ]
  },
  {
   "cell_type": "markdown",
   "id": "3d38ba1d-496c-44a0-abcd-d62ba31c9d62",
   "metadata": {},
   "source": [
    "## with Scikit-learn: Example 1\n",
    "Defining Dataset"
   ]
  },
  {
   "cell_type": "code",
   "execution_count": 49,
   "id": "57844549-50eb-4953-adeb-8cbab13f215c",
   "metadata": {
    "tags": []
   },
   "outputs": [],
   "source": [
    "# First Feature\n",
    "weather = [\n",
    "    'Sunny', 'Sunny',\n",
    "    'Overcast', 'Rainy',\n",
    "    'Rainy', 'Rainy',\n",
    "    'Overcast', 'Sunny',\n",
    "    'Sunny', 'Rainy',\n",
    "    'Sunny', 'Overcast',\n",
    "    'Overcast', 'Rainy'\n",
    "]\n",
    "\n",
    "# Second Feature\n",
    "temp = [\n",
    "    'Hot', 'Hot',\n",
    "    'Hot', 'Mild',\n",
    "    'Cool', 'Cool',\n",
    "    'Cool', 'Mild',\n",
    "    'Cool', 'Mild',\n",
    "    'Mild', 'Mild',\n",
    "    'Hot', 'Mild'\n",
    "]\n",
    "\n",
    "# Label or Target Variable\n",
    "play = [\n",
    "    'No', 'No',\n",
    "    'Yes', 'Yes',\n",
    "    'Yes', 'No',\n",
    "    'Yes', 'No',\n",
    "    'Yes', 'Yes',\n",
    "    'Yes', 'Yes',\n",
    "    'Yes', 'No'\n",
    "]"
   ]
  },
  {
   "cell_type": "markdown",
   "id": "8c2e62cd-a3dd-4c37-afe9-1fe184ce2b94",
   "metadata": {},
   "source": [
    "Encoding Data Columns"
   ]
  },
  {
   "cell_type": "code",
   "execution_count": 50,
   "id": "479ddea0-e1b1-4991-a781-e5fb6c898f74",
   "metadata": {
    "tags": []
   },
   "outputs": [],
   "source": [
    "# Import LabelEncoder\n",
    "from sklearn.preprocessing import LabelEncoder"
   ]
  },
  {
   "cell_type": "code",
   "execution_count": 52,
   "id": "1e29e0e2-4c0e-434f-95b9-aa6029cd371e",
   "metadata": {
    "tags": []
   },
   "outputs": [],
   "source": [
    "# Creating labelEncoder\n",
    "le = LabelEncoder()"
   ]
  },
  {
   "cell_type": "code",
   "execution_count": 65,
   "id": "5bdf9a13-03a7-4e40-b4c9-5065a9496921",
   "metadata": {
    "tags": []
   },
   "outputs": [
    {
     "name": "stdout",
     "output_type": "stream",
     "text": [
      "[2 2 0 1 1 1 0 2 2 1 2 0 0 1]\n",
      "{'Overcast': 0, 'Rainy': 1, 'Sunny': 2}\n"
     ]
    }
   ],
   "source": [
    "# Converting string labels into numbers\n",
    "weather_encoded = le.fit_transform(weather)\n",
    "print(weather_encoded)\n",
    "\n",
    "# mendapatkan mapping hasil encode\n",
    "weather_mapping = dict(zip(le.classes_, le.transform(le.classes_)))\n",
    "print(weather_mapping)"
   ]
  },
  {
   "cell_type": "code",
   "execution_count": 66,
   "id": "f0b55134-09d1-46f6-9c14-d0b46f88a2fc",
   "metadata": {
    "tags": []
   },
   "outputs": [
    {
     "name": "stdout",
     "output_type": "stream",
     "text": [
      "[1 1 1 2 0 0 0 2 0 2 2 2 1 2]\n",
      "{'Cool': 0, 'Hot': 1, 'Mild': 2}\n"
     ]
    }
   ],
   "source": [
    "# Converting string labels into numbers\n",
    "temp_encoded = le.fit_transform(temp)\n",
    "print(temp_encoded)\n",
    "\n",
    "# mendapatkan mapping hasil encode\n",
    "temp_mapping = dict(zip(le.classes_, le.transform(le.classes_)))\n",
    "print(temp_mapping)"
   ]
  },
  {
   "cell_type": "code",
   "execution_count": 67,
   "id": "629f08d1-0a54-47b2-8113-3065de879c2b",
   "metadata": {
    "tags": []
   },
   "outputs": [
    {
     "name": "stdout",
     "output_type": "stream",
     "text": [
      "[0 0 1 1 1 0 1 0 1 1 1 1 1 0]\n",
      "{'No': 0, 'Yes': 1}\n"
     ]
    }
   ],
   "source": [
    "# Converting string labels into numbers\n",
    "label = le.fit_transform(play)\n",
    "print(label)\n",
    "\n",
    "# mendapatkan mapping hasil encode\n",
    "play_mapping = dict(zip(le.classes_, le.transform(le.classes_)))\n",
    "print(play_mapping)"
   ]
  },
  {
   "cell_type": "markdown",
   "id": "52971d9f-6c66-42fb-aa9d-b55b30ac6d24",
   "metadata": {},
   "source": [
    "Combining Features"
   ]
  },
  {
   "cell_type": "code",
   "execution_count": 56,
   "id": "1dda25fa-17dd-4ca3-a43d-4ca0294921cc",
   "metadata": {
    "tags": []
   },
   "outputs": [
    {
     "name": "stdout",
     "output_type": "stream",
     "text": [
      "[(2, 1), (2, 1), (0, 1), (1, 2), (1, 0), (1, 0), (0, 0), (2, 2), (2, 0), (1, 2), (2, 2), (0, 2), (0, 1), (1, 2)]\n"
     ]
    }
   ],
   "source": [
    "# combining weather and temp into single list of tuple\n",
    "features = list(zip(weather_encoded, temp_encoded))\n",
    "print(features)"
   ]
  },
  {
   "cell_type": "markdown",
   "id": "8880eb1f-065c-43c3-8583-2181434cc26e",
   "metadata": {},
   "source": [
    "Generating Model"
   ]
  },
  {
   "cell_type": "code",
   "execution_count": 61,
   "id": "6b8f7157-3141-4b36-bd00-d6253770c32a",
   "metadata": {
    "tags": []
   },
   "outputs": [
    {
     "name": "stdout",
     "output_type": "stream",
     "text": [
      "[1]\n"
     ]
    }
   ],
   "source": [
    "# Import Package\n",
    "from sklearn.neighbors import KNeighborsClassifier\n",
    "\n",
    "# Create Model\n",
    "model = KNeighborsClassifier(n_neighbors=3)\n",
    "\n",
    "# Train Model\n",
    "model.fit(features, label)\n",
    "\n",
    "# Predict Output\n",
    "# 0: Overcast, 2: Mild\n",
    "predicted = model.predict([[0,2]])\n",
    "\n",
    "print(predicted)"
   ]
  },
  {
   "cell_type": "markdown",
   "id": "48bd9f3a-12e4-4bf0-bcfb-72d96009e967",
   "metadata": {},
   "source": [
    "## KNN with Multiple Labels"
   ]
  },
  {
   "cell_type": "markdown",
   "id": "e1101889-fa59-45f5-a233-303540f802f8",
   "metadata": {},
   "source": [
    "Loading Data"
   ]
  },
  {
   "cell_type": "code",
   "execution_count": 69,
   "id": "64f4df90-5f73-495b-a8ff-f26e69a83034",
   "metadata": {
    "tags": []
   },
   "outputs": [],
   "source": [
    "from sklearn import datasets\n",
    "\n",
    "# Load dataset\n",
    "wine = datasets.load_wine()"
   ]
  },
  {
   "cell_type": "markdown",
   "id": "132b9cf3-de01-4fae-a683-0909d760754f",
   "metadata": {},
   "source": [
    "Exploring data"
   ]
  },
  {
   "cell_type": "code",
   "execution_count": 70,
   "id": "f7facc78-4c9c-4208-a8c2-cbba42456503",
   "metadata": {
    "tags": []
   },
   "outputs": [
    {
     "name": "stdout",
     "output_type": "stream",
     "text": [
      "['alcohol', 'malic_acid', 'ash', 'alcalinity_of_ash', 'magnesium', 'total_phenols', 'flavanoids', 'nonflavanoid_phenols', 'proanthocyanins', 'color_intensity', 'hue', 'od280/od315_of_diluted_wines', 'proline']\n"
     ]
    }
   ],
   "source": [
    "# print the names of features\n",
    "print(wine.feature_names)"
   ]
  },
  {
   "cell_type": "code",
   "execution_count": 71,
   "id": "8a06fdb6-79e8-4939-bde9-d8d8403983d5",
   "metadata": {
    "tags": []
   },
   "outputs": [
    {
     "name": "stdout",
     "output_type": "stream",
     "text": [
      "['class_0' 'class_1' 'class_2']\n"
     ]
    }
   ],
   "source": [
    "# print the labels\n",
    "print(wine.target_names)"
   ]
  },
  {
   "cell_type": "code",
   "execution_count": 73,
   "id": "19eb0f9e-0352-48b1-bc15-20e695495c99",
   "metadata": {
    "tags": []
   },
   "outputs": [
    {
     "name": "stdout",
     "output_type": "stream",
     "text": [
      "[[1.423e+01 1.710e+00 2.430e+00 1.560e+01 1.270e+02 2.800e+00 3.060e+00\n",
      "  2.800e-01 2.290e+00 5.640e+00 1.040e+00 3.920e+00 1.065e+03]\n",
      " [1.320e+01 1.780e+00 2.140e+00 1.120e+01 1.000e+02 2.650e+00 2.760e+00\n",
      "  2.600e-01 1.280e+00 4.380e+00 1.050e+00 3.400e+00 1.050e+03]\n",
      " [1.316e+01 2.360e+00 2.670e+00 1.860e+01 1.010e+02 2.800e+00 3.240e+00\n",
      "  3.000e-01 2.810e+00 5.680e+00 1.030e+00 3.170e+00 1.185e+03]\n",
      " [1.437e+01 1.950e+00 2.500e+00 1.680e+01 1.130e+02 3.850e+00 3.490e+00\n",
      "  2.400e-01 2.180e+00 7.800e+00 8.600e-01 3.450e+00 1.480e+03]\n",
      " [1.324e+01 2.590e+00 2.870e+00 2.100e+01 1.180e+02 2.800e+00 2.690e+00\n",
      "  3.900e-01 1.820e+00 4.320e+00 1.040e+00 2.930e+00 7.350e+02]]\n"
     ]
    }
   ],
   "source": [
    "# check first 5 rows of the data\n",
    "print(wine.data[0:5])"
   ]
  },
  {
   "cell_type": "code",
   "execution_count": 74,
   "id": "aaa2c52c-6352-4d85-bbd9-c4d6029bd01d",
   "metadata": {
    "tags": []
   },
   "outputs": [
    {
     "name": "stdout",
     "output_type": "stream",
     "text": [
      "[0 0 0 0 0 0 0 0 0 0 0 0 0 0 0 0 0 0 0 0 0 0 0 0 0 0 0 0 0 0 0 0 0 0 0 0 0\n",
      " 0 0 0 0 0 0 0 0 0 0 0 0 0 0 0 0 0 0 0 0 0 0 1 1 1 1 1 1 1 1 1 1 1 1 1 1 1\n",
      " 1 1 1 1 1 1 1 1 1 1 1 1 1 1 1 1 1 1 1 1 1 1 1 1 1 1 1 1 1 1 1 1 1 1 1 1 1\n",
      " 1 1 1 1 1 1 1 1 1 1 1 1 1 1 1 1 1 1 1 2 2 2 2 2 2 2 2 2 2 2 2 2 2 2 2 2 2\n",
      " 2 2 2 2 2 2 2 2 2 2 2 2 2 2 2 2 2 2 2 2 2 2 2 2 2 2 2 2 2 2]\n"
     ]
    }
   ],
   "source": [
    "# check the target data\n",
    "print(wine.target)"
   ]
  },
  {
   "cell_type": "code",
   "execution_count": 75,
   "id": "72d4cd5c-47b6-42a1-a95d-a3ed899276af",
   "metadata": {
    "tags": []
   },
   "outputs": [
    {
     "name": "stdout",
     "output_type": "stream",
     "text": [
      "(178, 13)\n"
     ]
    }
   ],
   "source": [
    "# print data.shape\n",
    "print(wine.data.shape)"
   ]
  },
  {
   "cell_type": "code",
   "execution_count": 77,
   "id": "9d8aa3f4-4de8-43db-95e4-8ea9f58e1eea",
   "metadata": {
    "tags": []
   },
   "outputs": [
    {
     "name": "stdout",
     "output_type": "stream",
     "text": [
      "(178,)\n"
     ]
    }
   ],
   "source": [
    "# print target.shape\n",
    "print(wine.target.shape)"
   ]
  },
  {
   "cell_type": "markdown",
   "id": "551dd877-d21f-4f5e-a142-b59b8011c9e8",
   "metadata": {},
   "source": [
    "Splitting Data"
   ]
  },
  {
   "cell_type": "code",
   "execution_count": 104,
   "id": "362d2714-14a4-4a1f-9827-d7c8e350ff4f",
   "metadata": {
    "tags": []
   },
   "outputs": [],
   "source": [
    "from sklearn.model_selection import train_test_split\n",
    "\n",
    "# split into train and test set\n",
    "# Train 70%, Test 30%\n",
    "X_train, X_test, y_train, y_test = train_test_split(wine.data, wine.target, test_size=.3, random_state=42)"
   ]
  },
  {
   "cell_type": "markdown",
   "id": "7fdf89b0-3054-4ccd-b068-16d7c3447efb",
   "metadata": {},
   "source": [
    "Generating Model for K=5"
   ]
  },
  {
   "cell_type": "code",
   "execution_count": 105,
   "id": "a8a5563d-d761-456c-b5e8-b3c13f11191a",
   "metadata": {
    "tags": []
   },
   "outputs": [
    {
     "name": "stdout",
     "output_type": "stream",
     "text": [
      "[2 0 2 0 1 0 2 2 1 0 2 2 0 1 0 1 1 1 0 1 0 1 2 1 1 1 1 2 1 0 0 1 2 0 0 0 2\n",
      " 2 2 1 0 1 1 0 1 0 2 1 2 0 1 0 0 2]\n"
     ]
    }
   ],
   "source": [
    "# Import Package\n",
    "from sklearn.neighbors import KNeighborsClassifier\n",
    "\n",
    "# Create KNN Classifier, with K=5 \n",
    "knn = KNeighborsClassifier(n_neighbors=5)\n",
    "\n",
    "# Train Model using Train Sets\n",
    "knn.fit(X_train, y_train)\n",
    "\n",
    "# Predict Output\n",
    "y_pred = knn.predict(X_test)\n",
    "\n",
    "print(y_pred)"
   ]
  },
  {
   "cell_type": "markdown",
   "id": "5683bc59-63eb-469f-9f11-8c7e777ec445",
   "metadata": {},
   "source": [
    "Model Evaluation for k=5"
   ]
  },
  {
   "cell_type": "code",
   "execution_count": 106,
   "id": "99345b5a-c9eb-4a01-8931-461db3cf8577",
   "metadata": {
    "tags": []
   },
   "outputs": [
    {
     "name": "stdout",
     "output_type": "stream",
     "text": [
      "Accuracy : 0.7407407407407407\n"
     ]
    }
   ],
   "source": [
    "# Import library for accuracy calculation\n",
    "from sklearn import metrics\n",
    "\n",
    "# Model Accuracy, how often is the classifier correct?\n",
    "print('Accuracy :', metrics.accuracy_score(y_test, y_pred5))"
   ]
  },
  {
   "cell_type": "markdown",
   "id": "6fe98feb-7528-416f-9515-d8e03e0bf31b",
   "metadata": {},
   "source": [
    "Regenereating Model for K=7"
   ]
  },
  {
   "cell_type": "code",
   "execution_count": 107,
   "id": "c04cf457-d71e-4baa-8aad-43e4b6f6ff6c",
   "metadata": {
    "tags": []
   },
   "outputs": [
    {
     "name": "stdout",
     "output_type": "stream",
     "text": [
      "[0 0 2 0 1 0 1 2 2 0 2 2 0 1 0 1 1 2 0 1 0 1 2 1 1 1 1 2 1 0 0 1 2 0 0 0 2\n",
      " 2 2 1 0 1 1 0 2 0 2 1 2 0 1 0 0 2]\n"
     ]
    }
   ],
   "source": [
    "# Import Package\n",
    "from sklearn.neighbors import KNeighborsClassifier\n",
    "\n",
    "# Create KNN Classifier, with K=7\n",
    "knn = KNeighborsClassifier(n_neighbors=7)\n",
    "\n",
    "# Train Model using Train Sets\n",
    "knn.fit(X_train, y_train)\n",
    "\n",
    "# Predict Output\n",
    "y_pred = knn.predict(X_test)\n",
    "\n",
    "print(y_pred)"
   ]
  },
  {
   "cell_type": "code",
   "execution_count": 108,
   "id": "01221e89-cae0-499d-bde5-05bd51c2fea8",
   "metadata": {
    "tags": []
   },
   "outputs": [
    {
     "name": "stdout",
     "output_type": "stream",
     "text": [
      "Accuracy : 0.7592592592592593\n"
     ]
    }
   ],
   "source": [
    "# Evaluating for KNN with K=7\n",
    "\n",
    "# Model Accuracy, how often is the classifier correct?\n",
    "print('Accuracy :', metrics.accuracy_score(y_test, y_pred))"
   ]
  },
  {
   "cell_type": "code",
   "execution_count": 111,
   "id": "5eede8a7-a323-4ffa-9ef1-06b4658d431a",
   "metadata": {
    "tags": []
   },
   "outputs": [],
   "source": [
    "error = []\n",
    "\n",
    "# Calculating error for K values bertween 1 and 40\n",
    "for i in range(1, 41):\n",
    "    knn = KNeighborsClassifier(n_neighbors=i)\n",
    "    knn.fit(X_train, y_train)\n",
    "    pred_i = knn.predict(X_test)\n",
    "    error.append(np.mean(pred_i != y_test))"
   ]
  },
  {
   "cell_type": "code",
   "execution_count": 112,
   "id": "03ebc361-a4db-421c-b9aa-0eb82b44975c",
   "metadata": {
    "tags": []
   },
   "outputs": [
    {
     "data": {
      "image/png": "[encoded data removed]",
      "text/plain": [
       "<Figure size 1200x600 with 1 Axes>"
      ]
     },
     "metadata": {},
     "output_type": "display_data"
    }
   ],
   "source": [
    "plt.figure(figsize=(12,6))\n",
    "plt.plot(range(1, 41), error, color='red',\n",
    "         linestyle='dashed', marker='o',\n",
    "         markerfacecolor='blue', markersize=10\n",
    "        )\n",
    "plt.title(\"Error Rate K\")\n",
    "plt.xlabel('K')\n",
    "plt.ylabel('Error Mean')\n",
    "plt.show()"
   ]
  },
  {
   "cell_type": "code",
   "execution_count": 121,
   "id": "e9a13e7d-bfb7-4c35-80bc-c1ab73c07458",
   "metadata": {
    "tags": []
   },
   "outputs": [
    {
     "name": "stdout",
     "output_type": "stream",
     "text": [
      "[0 0 2 0 1 0 1 2 2 2 0 1 0 1 0 1 1 2 0 1 0 1 2 2 1 2 1 2 1 0 0 1 2 0 0 0 2\n",
      " 1 2 2 0 1 1 2 1 0 2 1 2 0 1 0 0 2]\n",
      "Accuracy : 0.7962962962962963\n"
     ]
    }
   ],
   "source": [
    "# Import Package\n",
    "from sklearn.neighbors import KNeighborsClassifier\n",
    "\n",
    "# Create KNN Classifier, with K=30\n",
    "knn = KNeighborsClassifier(n_neighbors=30)\n",
    "\n",
    "# Train Model using Train Sets\n",
    "knn.fit(X_train, y_train)\n",
    "\n",
    "# Predict Output\n",
    "y_pred = knn.predict(X_test)\n",
    "\n",
    "print(y_pred)\n",
    "\n",
    "# Evaluating for KNN with K=30\n",
    "\n",
    "# Model Accuracy, how often is the classifier correct?\n",
    "print('Accuracy :', metrics.accuracy_score(y_test, y_pred))"
   ]
  },
  {
   "cell_type": "code",
   "execution_count": null,
   "id": "f150e4e1-ca5f-4899-b7c8-eeb5c6249d47",
   "metadata": {},
   "outputs": [],
   "source": []
  }
 ],
 "metadata": {
  "kernelspec": {
   "display_name": "Python 3 (ipykernel)",
   "language": "python",
   "name": "python3"
  },
  "language_info": {
   "codemirror_mode": {
    "name": "ipython",
    "version": 3
   },
   "file_extension": ".py",
   "mimetype": "text/x-python",
   "name": "python",
   "nbconvert_exporter": "python",
   "pygments_lexer": "ipython3",
   "version": "3.11.4"
  }
 },
 "nbformat": 4,
 "nbformat_minor": 5
}
