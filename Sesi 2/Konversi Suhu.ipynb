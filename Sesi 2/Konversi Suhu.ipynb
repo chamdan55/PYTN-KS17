{
 "cells": [
  {
   "cell_type": "code",
   "execution_count": 12,
   "id": "946a34cf-fee1-45e2-809d-494372b112d5",
   "metadata": {
    "tags": []
   },
   "outputs": [
    {
     "name": "stdout",
     "output_type": "stream",
     "text": [
      "============== Program Konversi Suhu ==============\n"
     ]
    },
    {
     "name": "stdin",
     "output_type": "stream",
     "text": [
      "Ketikan Temperatur yang ingin dikonversi, eg. 45F, 120C:  C\n"
     ]
    },
    {
     "name": "stdout",
     "output_type": "stream",
     "text": [
      "Invalid Input\n",
      "Masukan input yang benar\n",
      "============== Program Konversi Suhu ==============\n"
     ]
    },
    {
     "name": "stdin",
     "output_type": "stream",
     "text": [
      "Ketikan Temperatur yang ingin dikonversi, eg. 45F, 120C:  120c\n"
     ]
    },
    {
     "name": "stdout",
     "output_type": "stream",
     "text": [
      "Temperaturnya adalah 248 derajat Fahrenheit\n"
     ]
    },
    {
     "name": "stdin",
     "output_type": "stream",
     "text": [
      "Coba lagi (y/n)?  n\n"
     ]
    },
    {
     "name": "stdout",
     "output_type": "stream",
     "text": [
      "TERIMA KASIH\n"
     ]
    }
   ],
   "source": [
    "while True:\n",
    "    print('============== Program Konversi Suhu ==============')\n",
    "    temp = input('Ketikan Temperatur yang ingin dikonversi, eg. 45F, 120C: ')\n",
    "    if len(temp) > 1:    \n",
    "        degree = int(temp[:-1])\n",
    "        satuan = temp[-1].upper()\n",
    "    else :\n",
    "        print('Invalid Input')\n",
    "        print('Masukan input yang benar')\n",
    "        continue\n",
    "\n",
    "    if satuan == 'C':\n",
    "        result = int(round((9 * degree/ 5) + 32))\n",
    "        unit = 'Fahrenheit'\n",
    "    elif satuan == 'F':\n",
    "        result = int(round((degree - 32) * 5/ 9))\n",
    "        unit = 'Celcius'\n",
    "    else :\n",
    "        print('Invalid Input')\n",
    "        print('Masukan input yang benar')\n",
    "        continue\n",
    "\n",
    "    print('Temperaturnya adalah', result, 'derajat', unit)\n",
    "\n",
    "    conf = input('Coba lagi (y/n)? ').lower()\n",
    "    if conf == 'n':\n",
    "        print('TERIMA KASIH')\n",
    "        break\n",
    "    else :\n",
    "        print('\\n')\n",
    "        pass"
   ]
  },
  {
   "cell_type": "code",
   "execution_count": 10,
   "id": "cea84735-c0e2-44ae-938e-a4373d5b3006",
   "metadata": {},
   "outputs": [
    {
     "ename": "SyntaxError",
     "evalue": "unterminated string literal (detected at line 19) (1806045977.py, line 19)",
     "output_type": "error",
     "traceback": [
      "\u001b[0;36m  Cell \u001b[0;32mIn[10], line 19\u001b[0;36m\u001b[0m\n\u001b[0;31m    if msg2 == \"\u001b[0m\n\u001b[0m               ^\u001b[0m\n\u001b[0;31mSyntaxError\u001b[0m\u001b[0;31m:\u001b[0m unterminated string literal (detected at line 19)\n"
     ]
    }
   ],
   "source": [
    "while True:\n",
    "    print (\"======== Program Konversi Suhu ========\\n\")\n",
    "    \n",
    "    msg = input(\"Ketikan temperatur : \")\n",
    "        \n",
    "    deg = int(msg[:-1])\n",
    "    satuan = msg[-1].upper()\n",
    "    if satuan == \"C\":\n",
    "        res = int(round((9*deg)/5 + 32))\n",
    "    elif satuan == \"F\":\n",
    "        res = int(round((deg-32) + 5 * 32))\n",
    "    else :\n",
    "        print(\"masukkan yang benar\\n\")\n",
    "        continue\n",
    "        \n",
    "    print(\"temperatur = \", res,\"derajat\\n\")\n",
    "    \n",
    "    msg2 = input(\"Ingin lnjut '(y/n)' : \")\n",
    "    if msg2 == \"\n"
   ]
  },
  {
   "cell_type": "code",
   "execution_count": 11,
   "id": "699b3046-2a44-4918-ba2f-bf2fe2961aee",
   "metadata": {
    "tags": []
   },
   "outputs": [
    {
     "name": "stdin",
     "output_type": "stream",
     "text": [
      "Ketikan temperatur yang ingin dikonversi, eg. 45F, 120C (atau 'exit' untuk keluar):  1\n"
     ]
    },
    {
     "ename": "ValueError",
     "evalue": "invalid literal for int() with base 10: ''",
     "output_type": "error",
     "traceback": [
      "\u001b[0;31m---------------------------------------------------------------------------\u001b[0m",
      "\u001b[0;31mValueError\u001b[0m                                Traceback (most recent call last)",
      "Cell \u001b[0;32mIn[11], line 8\u001b[0m\n\u001b[1;32m      5\u001b[0m     \u001b[38;5;28mprint\u001b[39m(\u001b[38;5;124m\"\u001b[39m\u001b[38;5;124mTerima kasih, program berakhir.\u001b[39m\u001b[38;5;124m\"\u001b[39m)\n\u001b[1;32m      6\u001b[0m     \u001b[38;5;28;01mbreak\u001b[39;00m\n\u001b[0;32m----> 8\u001b[0m degree \u001b[38;5;241m=\u001b[39m \u001b[38;5;28mint\u001b[39m(temp[:\u001b[38;5;241m-\u001b[39m\u001b[38;5;241m1\u001b[39m])\n\u001b[1;32m      9\u001b[0m i_convertion \u001b[38;5;241m=\u001b[39m temp[\u001b[38;5;241m-\u001b[39m\u001b[38;5;241m1\u001b[39m]\n\u001b[1;32m     11\u001b[0m \u001b[38;5;28;01mif\u001b[39;00m i_convertion \u001b[38;5;241m==\u001b[39m \u001b[38;5;124m\"\u001b[39m\u001b[38;5;124mC\u001b[39m\u001b[38;5;124m\"\u001b[39m:\n",
      "\u001b[0;31mValueError\u001b[0m: invalid literal for int() with base 10: ''"
     ]
    }
   ],
   "source": [
    "while True:\n",
    "    temp = input(\"Ketikan temperatur yang ingin dikonversi, eg. 45F, 120C (atau 'exit' untuk keluar): \")\n",
    "\n",
    "    if temp.lower() == \"stop\":\n",
    "        print(\"Terima kasih, program berakhir.\")\n",
    "        break\n",
    "\n",
    "    degree = int(temp[:-1])\n",
    "    i_convertion = temp[-1]\n",
    "\n",
    "    if i_convertion == \"C\":\n",
    "        result = int(round((9 * degree) / 5 + 32))\n",
    "        print(\"Temperaturnya adalah\", result, \"derajat Fahrenheit\")\n",
    "    elif i_convertion == \"F\":\n",
    "        result = int(round((degree - 32) * 5 / 9))\n",
    "        print(\"Temperaturnya adalah\", result, \"derajat Celsius\")\n",
    "    else:\n",
    "        print(\"Masukan input yang benar\")\n"
   ]
  },
  {
   "cell_type": "code",
   "execution_count": 9,
   "id": "866113fe-5409-44c2-b737-00964b201c84",
   "metadata": {
    "tags": []
   },
   "outputs": [
    {
     "name": "stdout",
     "output_type": "stream",
     "text": [
      "Program Konversi Suhu\n"
     ]
    },
    {
     "name": "stdin",
     "output_type": "stream",
     "text": [
      "Ketikkan temperatur yang ingin dikonversi, eg. 45F, 120C:  120C\n"
     ]
    },
    {
     "name": "stdout",
     "output_type": "stream",
     "text": [
      "Temperaturnya adalah 248 derajat Fahrenheit\n"
     ]
    },
    {
     "name": "stdin",
     "output_type": "stream",
     "text": [
      "Apakah Anda ingin melanjutkan? (y/n):  K\n"
     ]
    }
   ],
   "source": [
    "print(\"Program Konversi Suhu\")\n",
    "\n",
    "while True:\n",
    "    temp = input(\"Ketikkan temperatur yang ingin dikonversi, eg. 45F, 120C: \")\n",
    "    degree = int(temp[:-1])\n",
    "    i_conversion = temp[-1]\n",
    "\n",
    "    if i_conversion == \"C\":\n",
    "        result = int(round((9 * degree) / 5 + 32))\n",
    "        print(\"Temperaturnya adalah\", result, \"derajat Fahrenheit\")\n",
    "    elif i_conversion == \"F\":\n",
    "        result = int(round((degree - 32) * 5 / 9))\n",
    "        print(\"Temperaturnya adalah\", result, \"derajat Celsius\")\n",
    "    else:\n",
    "        print(\"Masukkan input yang benar\")\n",
    "\n",
    "    cont = input(\"Apakah Anda ingin melanjutkan? (y/n): \")\n",
    "    if cont.lower() != 'y':\n",
    "        break"
   ]
  },
  {
   "cell_type": "code",
   "execution_count": 8,
   "id": "2c85828c-2d15-48ef-99ee-29101e8aef2d",
   "metadata": {
    "tags": []
   },
   "outputs": [
    {
     "name": "stdin",
     "output_type": "stream",
     "text": [
      "Ketikan temperatur yang ingin dikonversi, eg. 45F, 120C:  45F\n"
     ]
    },
    {
     "name": "stdout",
     "output_type": "stream",
     "text": [
      "Temperaturnya adalah 7 derajat\n"
     ]
    },
    {
     "name": "stdin",
     "output_type": "stream",
     "text": [
      "Apakah Anda ingin melanjutkan? (y/n):  y\n",
      "Ketikan temperatur yang ingin dikonversi, eg. 45F, 120C:  120c\n"
     ]
    },
    {
     "name": "stdout",
     "output_type": "stream",
     "text": [
      "Masukan input yang benar\n"
     ]
    },
    {
     "name": "stdin",
     "output_type": "stream",
     "text": [
      "Ketikan temperatur yang ingin dikonversi, eg. 45F, 120C:  120F\n"
     ]
    },
    {
     "name": "stdout",
     "output_type": "stream",
     "text": [
      "Temperaturnya adalah 49 derajat\n"
     ]
    },
    {
     "name": "stdin",
     "output_type": "stream",
     "text": [
      "Apakah Anda ingin melanjutkan? (y/n):  n\n"
     ]
    }
   ],
   "source": [
    "while True:\n",
    "    temp = input(\"Ketikan temperatur yang ingin dikonversi, eg. 45F, 120C: \")\n",
    "    degree = int(temp[:-1])\n",
    "    i_conversion = temp[-1]\n",
    "\n",
    "    if i_conversion == \"C\":\n",
    "        result = int(round((degree * 9 / 5) + 32))\n",
    "    elif i_conversion == \"F\":\n",
    "        result = int(round((degree - 32) * 5 / 9))\n",
    "    else:\n",
    "        print(\"Masukan input yang benar\")\n",
    "        continue  \n",
    "\n",
    "    print(\"Temperaturnya adalah\", result, \"derajat\")\n",
    "\n",
    "    choice = input(\"Apakah Anda ingin melanjutkan? (y/n): \")\n",
    "    if choice.lower() == \"n\":\n",
    "        break  "
   ]
  },
  {
   "cell_type": "code",
   "execution_count": null,
   "id": "d1da3fff-689f-443f-8568-ac412faca948",
   "metadata": {},
   "outputs": [],
   "source": []
  }
 ],
 "metadata": {
  "kernelspec": {
   "display_name": "Python 3 (ipykernel)",
   "language": "python",
   "name": "python3"
  },
  "language_info": {
   "codemirror_mode": {
    "name": "ipython",
    "version": 3
   },
   "file_extension": ".py",
   "mimetype": "text/x-python",
   "name": "python",
   "nbconvert_exporter": "python",
   "pygments_lexer": "ipython3",
   "version": "3.11.4"
  }
 },
 "nbformat": 4,
 "nbformat_minor": 5
}
