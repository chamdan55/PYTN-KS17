{
 "cells": [
  {
   "cell_type": "code",
   "execution_count": 7,
   "id": "946a34cf-fee1-45e2-809d-494372b112d5",
   "metadata": {
    "tags": []
   },
   "outputs": [
    {
     "name": "stdout",
     "output_type": "stream",
     "text": [
      "============== Program Konversi Suhu ==============\n"
     ]
    },
    {
     "name": "stdin",
     "output_type": "stream",
     "text": [
      "Ketikan Temperatur yang ingin dikonversi, eg. 45F, 120C:  1\n"
     ]
    },
    {
     "name": "stdout",
     "output_type": "stream",
     "text": [
      "Invalid Input\n",
      "Masukan input yang benar\n",
      "============== Program Konversi Suhu ==============\n"
     ]
    },
    {
     "name": "stdin",
     "output_type": "stream",
     "text": [
      "Ketikan Temperatur yang ingin dikonversi, eg. 45F, 120C:  12r\n"
     ]
    },
    {
     "name": "stdout",
     "output_type": "stream",
     "text": [
      "Invalid Input\n",
      "Masukan input yang benar\n",
      "============== Program Konversi Suhu ==============\n"
     ]
    },
    {
     "name": "stdin",
     "output_type": "stream",
     "text": [
      "Ketikan Temperatur yang ingin dikonversi, eg. 45F, 120C:  14c\n"
     ]
    },
    {
     "name": "stdout",
     "output_type": "stream",
     "text": [
      "Temperaturnya adalah 57 derajat Fahrenheit\n"
     ]
    },
    {
     "name": "stdin",
     "output_type": "stream",
     "text": [
      "Coba lagi (y/n)?  y\n"
     ]
    },
    {
     "name": "stdout",
     "output_type": "stream",
     "text": [
      "\n",
      "\n",
      "============== Program Konversi Suhu ==============\n"
     ]
    },
    {
     "name": "stdin",
     "output_type": "stream",
     "text": [
      "Ketikan Temperatur yang ingin dikonversi, eg. 45F, 120C:  test\n"
     ]
    },
    {
     "ename": "ValueError",
     "evalue": "invalid literal for int() with base 10: 'tes'",
     "output_type": "error",
     "traceback": [
      "\u001b[0;31m---------------------------------------------------------------------------\u001b[0m",
      "\u001b[0;31mValueError\u001b[0m                                Traceback (most recent call last)",
      "Cell \u001b[0;32mIn[7], line 5\u001b[0m\n\u001b[1;32m      3\u001b[0m temp \u001b[38;5;241m=\u001b[39m \u001b[38;5;28minput\u001b[39m(\u001b[38;5;124m'\u001b[39m\u001b[38;5;124mKetikan Temperatur yang ingin dikonversi, eg. 45F, 120C: \u001b[39m\u001b[38;5;124m'\u001b[39m)\n\u001b[1;32m      4\u001b[0m \u001b[38;5;28;01mif\u001b[39;00m \u001b[38;5;28mlen\u001b[39m(temp) \u001b[38;5;241m>\u001b[39m \u001b[38;5;241m1\u001b[39m:    \n\u001b[0;32m----> 5\u001b[0m     degree \u001b[38;5;241m=\u001b[39m \u001b[38;5;28mint\u001b[39m(temp[:\u001b[38;5;241m-\u001b[39m\u001b[38;5;241m1\u001b[39m])\n\u001b[1;32m      6\u001b[0m     satuan \u001b[38;5;241m=\u001b[39m temp[\u001b[38;5;241m-\u001b[39m\u001b[38;5;241m1\u001b[39m]\u001b[38;5;241m.\u001b[39mupper()\n\u001b[1;32m      7\u001b[0m \u001b[38;5;28;01melse\u001b[39;00m :\n",
      "\u001b[0;31mValueError\u001b[0m: invalid literal for int() with base 10: 'tes'"
     ]
    }
   ],
   "source": [
    "while True:\n",
    "    print('============== Program Konversi Suhu ==============')\n",
    "    temp = input('Ketikan Temperatur yang ingin dikonversi, eg. 45F, 120C: ')\n",
    "    if len(temp) > 1:    \n",
    "        degree = int(temp[:-1])\n",
    "        satuan = temp[-1].upper()\n",
    "    else :\n",
    "        print('Invalid Input')\n",
    "        print('Masukan input yang benar')\n",
    "        continue\n",
    "\n",
    "    if satuan == 'C':\n",
    "        result = int(round((9 * degree/ 5) + 32))\n",
    "        unit = 'Fahrenheit'\n",
    "    elif satuan == 'F':\n",
    "        result = int(round((degree - 32) * 5/ 9))\n",
    "        unit = 'Celcius'\n",
    "    else :\n",
    "        print('Invalid Input')\n",
    "        print('Masukan input yang benar')\n",
    "        continue\n",
    "\n",
    "    print('Temperaturnya adalah', result, 'derajat', unit)\n",
    "\n",
    "    conf = input('Coba lagi (y/n)? ').lower()\n",
    "    if conf == 'n':\n",
    "        print('TERIMA KASIH')\n",
    "        break\n",
    "    else :\n",
    "        print('\\n')\n",
    "        pass"
   ]
  },
  {
   "cell_type": "code",
   "execution_count": null,
   "id": "cea84735-c0e2-44ae-938e-a4373d5b3006",
   "metadata": {},
   "outputs": [],
   "source": []
  }
 ],
 "metadata": {
  "kernelspec": {
   "display_name": "Python 3 (ipykernel)",
   "language": "python",
   "name": "python3"
  },
  "language_info": {
   "codemirror_mode": {
    "name": "ipython",
    "version": 3
   },
   "file_extension": ".py",
   "mimetype": "text/x-python",
   "name": "python",
   "nbconvert_exporter": "python",
   "pygments_lexer": "ipython3",
   "version": "3.11.4"
  }
 },
 "nbformat": 4,
 "nbformat_minor": 5
}
